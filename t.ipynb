{
 "cells": [
  {
   "cell_type": "markdown",
   "id": "e8969368",
   "metadata": {},
   "source": [
    "### Опрацювання та підготовка даних"
   ]
  },
  {
   "cell_type": "markdown",
   "id": "fe96d4a7",
   "metadata": {},
   "source": [
    "- читаємо файли з правильним кодуванням та роздільниками\n",
    "- приводимо url до нижнього регістру\n",
    "- форматування акордів у вигляді \"main accords: ...\"\n",
    "- видаляємо старі mainaccord-колонки, якщо є\n",
    "- зберігаємо новий файл fra_main.csv"
   ]
  },
  {
   "cell_type": "code",
   "execution_count": 10,
   "id": "57346819",
   "metadata": {},
   "outputs": [
    {
     "name": "stdout",
     "output_type": "stream",
     "text": [
      "збережено\n"
     ]
    }
   ],
   "source": [
    "import pandas as pd\n",
    "import ast\n",
    "import os\n",
    "from dotenv import load_dotenv\n",
    "load_dotenv()\n",
    "WEAVIATE_URL = os.getenv(\"WEAVIATE_URL\")\n",
    "WEAVIATE_API_KEY = os.getenv(\"WEAVIATE_API_KEY\")\n",
    "OPENROUTER_KEY = os.getenv(\"OPENROUTER_KEY\")\n",
    "TOKEN = os.getenv(\"TOKEN\")\n",
    "\n",
    "fra_perfumes = pd.read_csv(\"data/fra_perfumes.csv\", encoding=\"utf-8\")\n",
    "fra_cleaned = pd.read_csv(\"data/fra_cleaned.csv\", sep=\";\", encoding=\"latin1\")\n",
    "\n",
    "fra_perfumes[\"url\"] = fra_perfumes[\"url\"].str.lower()\n",
    "fra_cleaned[\"url\"] = fra_cleaned[\"url\"].str.lower()\n",
    "\n",
    "def format_accords(accord_str):\n",
    "    try:\n",
    "        accords = ast.literal_eval(accord_str)\n",
    "        if isinstance(accords, list):\n",
    "            return \"main accords: \" + \", \".join(accords)\n",
    "    except:\n",
    "        pass\n",
    "    return \"\"\n",
    "\n",
    "fra_perfumes[\"Main Accords\"] = fra_perfumes[\"Main Accords\"].apply(format_accords)\n",
    "merged = fra_cleaned.merge(\n",
    "    fra_perfumes[[\"url\", \"Main Accords\"]],\n",
    "    on=\"url\",\n",
    "    how=\"left\"\n",
    ")\n",
    "\n",
    "columns_to_drop = [\"mainaccord1\", \"mainaccord2\", \"mainaccord3\", \"mainaccord4\", \"mainaccord5\"]\n",
    "merged = merged.drop(columns=[c for c in columns_to_drop if c in merged.columns])\n",
    "\n",
    "\n",
    "merged.to_csv(\"data/fra_main.csv\", sep=\";\", index=False, encoding=\"utf-8\")\n",
    "print(\"збережено\")"
   ]
  },
  {
   "cell_type": "markdown",
   "id": "64082783",
   "metadata": {},
   "source": [
    "- у fra_main.csv всі колонки зʼєднати і отримуємо Description\n",
    "- створюємо базове речення опису:\n",
    "    1. Назва + призначення: \"The {Perfume} is designed for {Gender}.\"\n",
    "    2. Бренд, країна, рік: \"Brand {Brand}, {Country}, created in {Year}.\"\n",
    "    3. Топ ноти: \"Top notes are {Top}.\"\n",
    "    4. Середні ноти: \"Middle notes are {Middle}.\"\n",
    "    5. Базові ноти: \"Base notes are {Base}.\"\n",
    "    6. Головні акорди: \"Main accords include {Main Accords}.\"\n",
    "- зберігаємо файл як fra_working.csv"
   ]
  },
  {
   "cell_type": "code",
   "execution_count": 11,
   "id": "85bf82f5",
   "metadata": {},
   "outputs": [
    {
     "name": "stdout",
     "output_type": "stream",
     "text": [
      "збережено\n"
     ]
    }
   ],
   "source": [
    "fra_main = pd.read_csv(\"data/fra_main.csv\", sep=\";\", encoding=\"utf-8\")\n",
    "\n",
    "def make_description_en(row):\n",
    "    parts = []\n",
    "    \n",
    "    if pd.notna(row[\"Perfume\"]):\n",
    "        text = f\"The {row['Perfume']}\"\n",
    "        if pd.notna(row[\"Gender\"]):\n",
    "            text += f\" is designed for {row['Gender']}\"\n",
    "        parts.append(text + \".\")\n",
    "    \n",
    "    brand_country_year = []\n",
    "    if pd.notna(row[\"Brand\"]):\n",
    "        brand_country_year.append(f\"Brand {row['Brand']}\")\n",
    "    if pd.notna(row[\"Country\"]):\n",
    "        brand_country_year.append(row[\"Country\"])\n",
    "    if pd.notna(row[\"Year\"]):\n",
    "        brand_country_year.append(f\"created in {int(row['Year'])}\")\n",
    "    if brand_country_year:\n",
    "        parts.append(\", \".join(brand_country_year) + \".\")\n",
    "    \n",
    "    if pd.notna(row[\"Top\"]):\n",
    "        parts.append(f\"Top notes are {row['Top']}.\")\n",
    "    \n",
    "    if pd.notna(row[\"Middle\"]):\n",
    "        parts.append(f\"Middle notes are {row['Middle']}.\")\n",
    "    \n",
    "    if pd.notna(row[\"Base\"]):\n",
    "        parts.append(f\"Base notes are {row['Base']}.\")\n",
    "    \n",
    "    if pd.notna(row[\"Main Accords\"]):\n",
    "        accords = row[\"Main Accords\"].replace(\"main accords:\", \"\").strip()\n",
    "        parts.append(f\"Main accords include {accords}.\")\n",
    "    \n",
    "    return \" \".join(parts)\n",
    "\n",
    "fra_main[\"Description\"] = fra_main.apply(make_description_en, axis=1)\n",
    "fra_main.to_csv(\"data/fra_working.csv\", sep=\";\", index=False, encoding=\"utf-8\")\n",
    "\n",
    "print(\"збережено\")\n"
   ]
  },
  {
   "cell_type": "markdown",
   "id": "54fa3b86",
   "metadata": {},
   "source": [
    "кінцевий файл для використання далі, залишаємо тільки url та description"
   ]
  },
  {
   "cell_type": "code",
   "execution_count": 12,
   "id": "3b992c77",
   "metadata": {},
   "outputs": [
    {
     "name": "stdout",
     "output_type": "stream",
     "text": [
      "збережено\n"
     ]
    }
   ],
   "source": [
    "df = pd.read_csv(\"data/fra_working.csv\", sep=\";\")\n",
    "df_clean = df[['url', 'Description']]\n",
    "df_clean.to_csv(\"data/fra_final.csv\", sep=\";\", index=False)\n",
    "\n",
    "print(\"збережено\")\n"
   ]
  },
  {
   "cell_type": "markdown",
   "id": "ba8eae23",
   "metadata": {},
   "source": [
    "### Перетворення у векторну датабазу\n",
    "- 1 вектор на discription\n",
    "- генерація векторів через ембедингову модель sentence-transformers/all-MiniLM-L6-v2 (далі буде покращено з BAAI)\n",
    "- отримуємо [Вектори ароматів]\n",
    "- збереження векторів у векторну базу даних weaviate"
   ]
  },
  {
   "cell_type": "code",
   "execution_count": 13,
   "id": "02c64107",
   "metadata": {},
   "outputs": [
    {
     "name": "stderr",
     "output_type": "stream",
     "text": [
      "huggingface/tokenizers: The current process just got forked, after parallelism has already been used. Disabling parallelism to avoid deadlocks...\n",
      "To disable this warning, you can either:\n",
      "\t- Avoid using `tokenizers` before the fork if possible\n",
      "\t- Explicitly set the environment variable TOKENIZERS_PARALLELISM=(true | false)\n"
     ]
    },
    {
     "name": "stdout",
     "output_type": "stream",
     "text": [
      "Requirement already satisfied: sentence-transformers in /Library/Frameworks/Python.framework/Versions/3.11/lib/python3.11/site-packages (5.1.1)\n",
      "Requirement already satisfied: weaviate-client in /Library/Frameworks/Python.framework/Versions/3.11/lib/python3.11/site-packages (4.17.0)\n",
      "Requirement already satisfied: transformers<5.0.0,>=4.41.0 in /Library/Frameworks/Python.framework/Versions/3.11/lib/python3.11/site-packages (from sentence-transformers) (4.57.0)\n",
      "Requirement already satisfied: tqdm in /Library/Frameworks/Python.framework/Versions/3.11/lib/python3.11/site-packages (from sentence-transformers) (4.66.4)\n",
      "Requirement already satisfied: torch>=1.11.0 in /Library/Frameworks/Python.framework/Versions/3.11/lib/python3.11/site-packages (from sentence-transformers) (2.3.1)\n",
      "Requirement already satisfied: scikit-learn in /Library/Frameworks/Python.framework/Versions/3.11/lib/python3.11/site-packages (from sentence-transformers) (1.6.0)\n",
      "Requirement already satisfied: scipy in /Library/Frameworks/Python.framework/Versions/3.11/lib/python3.11/site-packages (from sentence-transformers) (1.14.1)\n",
      "Requirement already satisfied: huggingface-hub>=0.20.0 in /Library/Frameworks/Python.framework/Versions/3.11/lib/python3.11/site-packages (from sentence-transformers) (0.35.3)\n",
      "Requirement already satisfied: Pillow in /Library/Frameworks/Python.framework/Versions/3.11/lib/python3.11/site-packages (from sentence-transformers) (10.4.0)\n",
      "Requirement already satisfied: typing_extensions>=4.5.0 in /Library/Frameworks/Python.framework/Versions/3.11/lib/python3.11/site-packages (from sentence-transformers) (4.15.0)\n",
      "Requirement already satisfied: httpx<0.29.0,>=0.26.0 in /Library/Frameworks/Python.framework/Versions/3.11/lib/python3.11/site-packages (from weaviate-client) (0.27.0)\n",
      "Requirement already satisfied: validators<1.0.0,>=0.34.0 in /Library/Frameworks/Python.framework/Versions/3.11/lib/python3.11/site-packages (from weaviate-client) (0.35.0)\n",
      "Requirement already satisfied: authlib<2.0.0,>=1.2.1 in /Library/Frameworks/Python.framework/Versions/3.11/lib/python3.11/site-packages (from weaviate-client) (1.6.5)\n",
      "Requirement already satisfied: pydantic<3.0.0,>=2.8.0 in /Library/Frameworks/Python.framework/Versions/3.11/lib/python3.11/site-packages (from weaviate-client) (2.12.2)\n",
      "Requirement already satisfied: grpcio<1.80.0,>=1.59.5 in /Library/Frameworks/Python.framework/Versions/3.11/lib/python3.11/site-packages (from weaviate-client) (1.75.1)\n",
      "Requirement already satisfied: protobuf<7.0.0,>=4.21.6 in /Library/Frameworks/Python.framework/Versions/3.11/lib/python3.11/site-packages (from weaviate-client) (5.27.2)\n",
      "Requirement already satisfied: deprecation<3.0.0,>=2.1.0 in /Library/Frameworks/Python.framework/Versions/3.11/lib/python3.11/site-packages (from weaviate-client) (2.1.0)\n",
      "Requirement already satisfied: cryptography in /Library/Frameworks/Python.framework/Versions/3.11/lib/python3.11/site-packages (from authlib<2.0.0,>=1.2.1->weaviate-client) (46.0.3)\n",
      "Requirement already satisfied: packaging in /Users/veronikabagatyr-zaharcenko/Library/Python/3.11/lib/python/site-packages (from deprecation<3.0.0,>=2.1.0->weaviate-client) (23.2)\n",
      "Requirement already satisfied: anyio in /Library/Frameworks/Python.framework/Versions/3.11/lib/python3.11/site-packages (from httpx<0.29.0,>=0.26.0->weaviate-client) (4.4.0)\n",
      "Requirement already satisfied: certifi in /Library/Frameworks/Python.framework/Versions/3.11/lib/python3.11/site-packages (from httpx<0.29.0,>=0.26.0->weaviate-client) (2023.7.22)\n",
      "Requirement already satisfied: httpcore==1.* in /Library/Frameworks/Python.framework/Versions/3.11/lib/python3.11/site-packages (from httpx<0.29.0,>=0.26.0->weaviate-client) (1.0.5)\n",
      "Requirement already satisfied: idna in /Library/Frameworks/Python.framework/Versions/3.11/lib/python3.11/site-packages (from httpx<0.29.0,>=0.26.0->weaviate-client) (3.7)\n",
      "Requirement already satisfied: sniffio in /Library/Frameworks/Python.framework/Versions/3.11/lib/python3.11/site-packages (from httpx<0.29.0,>=0.26.0->weaviate-client) (1.3.1)\n",
      "Requirement already satisfied: h11<0.15,>=0.13 in /Library/Frameworks/Python.framework/Versions/3.11/lib/python3.11/site-packages (from httpcore==1.*->httpx<0.29.0,>=0.26.0->weaviate-client) (0.14.0)\n",
      "Requirement already satisfied: filelock in /Library/Frameworks/Python.framework/Versions/3.11/lib/python3.11/site-packages (from huggingface-hub>=0.20.0->sentence-transformers) (3.15.4)\n",
      "Requirement already satisfied: fsspec>=2023.5.0 in /Library/Frameworks/Python.framework/Versions/3.11/lib/python3.11/site-packages (from huggingface-hub>=0.20.0->sentence-transformers) (2024.6.1)\n",
      "Requirement already satisfied: pyyaml>=5.1 in /Library/Frameworks/Python.framework/Versions/3.11/lib/python3.11/site-packages (from huggingface-hub>=0.20.0->sentence-transformers) (6.0.2)\n",
      "Requirement already satisfied: requests in /Library/Frameworks/Python.framework/Versions/3.11/lib/python3.11/site-packages (from huggingface-hub>=0.20.0->sentence-transformers) (2.31.0)\n",
      "Requirement already satisfied: hf-xet<2.0.0,>=1.1.3 in /Library/Frameworks/Python.framework/Versions/3.11/lib/python3.11/site-packages (from huggingface-hub>=0.20.0->sentence-transformers) (1.1.10)\n",
      "Requirement already satisfied: annotated-types>=0.6.0 in /Library/Frameworks/Python.framework/Versions/3.11/lib/python3.11/site-packages (from pydantic<3.0.0,>=2.8.0->weaviate-client) (0.6.0)\n",
      "Requirement already satisfied: pydantic-core==2.41.4 in /Library/Frameworks/Python.framework/Versions/3.11/lib/python3.11/site-packages (from pydantic<3.0.0,>=2.8.0->weaviate-client) (2.41.4)\n",
      "Requirement already satisfied: typing-inspection>=0.4.2 in /Library/Frameworks/Python.framework/Versions/3.11/lib/python3.11/site-packages (from pydantic<3.0.0,>=2.8.0->weaviate-client) (0.4.2)\n",
      "Requirement already satisfied: sympy in /Library/Frameworks/Python.framework/Versions/3.11/lib/python3.11/site-packages (from torch>=1.11.0->sentence-transformers) (1.13.0)\n",
      "Requirement already satisfied: networkx in /Library/Frameworks/Python.framework/Versions/3.11/lib/python3.11/site-packages (from torch>=1.11.0->sentence-transformers) (3.3)\n",
      "Requirement already satisfied: jinja2 in /Library/Frameworks/Python.framework/Versions/3.11/lib/python3.11/site-packages (from torch>=1.11.0->sentence-transformers) (3.1.4)\n",
      "Requirement already satisfied: numpy>=1.17 in /Library/Frameworks/Python.framework/Versions/3.11/lib/python3.11/site-packages (from transformers<5.0.0,>=4.41.0->sentence-transformers) (2.0.0)\n",
      "Requirement already satisfied: regex!=2019.12.17 in /Library/Frameworks/Python.framework/Versions/3.11/lib/python3.11/site-packages (from transformers<5.0.0,>=4.41.0->sentence-transformers) (2025.9.18)\n",
      "Requirement already satisfied: tokenizers<=0.23.0,>=0.22.0 in /Library/Frameworks/Python.framework/Versions/3.11/lib/python3.11/site-packages (from transformers<5.0.0,>=4.41.0->sentence-transformers) (0.22.1)\n",
      "Requirement already satisfied: safetensors>=0.4.3 in /Library/Frameworks/Python.framework/Versions/3.11/lib/python3.11/site-packages (from transformers<5.0.0,>=4.41.0->sentence-transformers) (0.6.2)\n",
      "Requirement already satisfied: joblib>=1.2.0 in /Library/Frameworks/Python.framework/Versions/3.11/lib/python3.11/site-packages (from scikit-learn->sentence-transformers) (1.4.2)\n",
      "Requirement already satisfied: threadpoolctl>=3.1.0 in /Library/Frameworks/Python.framework/Versions/3.11/lib/python3.11/site-packages (from scikit-learn->sentence-transformers) (3.5.0)\n",
      "Requirement already satisfied: cffi>=2.0.0 in /Library/Frameworks/Python.framework/Versions/3.11/lib/python3.11/site-packages (from cryptography->authlib<2.0.0,>=1.2.1->weaviate-client) (2.0.0)\n",
      "Requirement already satisfied: MarkupSafe>=2.0 in /Library/Frameworks/Python.framework/Versions/3.11/lib/python3.11/site-packages (from jinja2->torch>=1.11.0->sentence-transformers) (2.1.5)\n",
      "Requirement already satisfied: charset-normalizer<4,>=2 in /Library/Frameworks/Python.framework/Versions/3.11/lib/python3.11/site-packages (from requests->huggingface-hub>=0.20.0->sentence-transformers) (3.3.2)\n",
      "Requirement already satisfied: urllib3<3,>=1.21.1 in /Library/Frameworks/Python.framework/Versions/3.11/lib/python3.11/site-packages (from requests->huggingface-hub>=0.20.0->sentence-transformers) (2.2.1)\n",
      "Requirement already satisfied: mpmath<1.4,>=1.1.0 in /Library/Frameworks/Python.framework/Versions/3.11/lib/python3.11/site-packages (from sympy->torch>=1.11.0->sentence-transformers) (1.3.0)\n",
      "Requirement already satisfied: pycparser in /Library/Frameworks/Python.framework/Versions/3.11/lib/python3.11/site-packages (from cffi>=2.0.0->cryptography->authlib<2.0.0,>=1.2.1->weaviate-client) (2.22)\n",
      "\n",
      "\u001b[1m[\u001b[0m\u001b[34;49mnotice\u001b[0m\u001b[1;39;49m]\u001b[0m\u001b[39;49m A new release of pip is available: \u001b[0m\u001b[31;49m24.1.2\u001b[0m\u001b[39;49m -> \u001b[0m\u001b[32;49m25.2\u001b[0m\n",
      "\u001b[1m[\u001b[0m\u001b[34;49mnotice\u001b[0m\u001b[1;39;49m]\u001b[0m\u001b[39;49m To update, run: \u001b[0m\u001b[32;49mpip install --upgrade pip\u001b[0m\n"
     ]
    }
   ],
   "source": [
    "!pip install sentence-transformers weaviate-client"
   ]
  },
  {
   "cell_type": "code",
   "execution_count": 14,
   "id": "d668dbc2",
   "metadata": {},
   "outputs": [],
   "source": [
    "from sentence_transformers import SentenceTransformer"
   ]
  },
  {
   "cell_type": "code",
   "execution_count": 15,
   "id": "4016a36c",
   "metadata": {},
   "outputs": [
    {
     "name": "stderr",
     "output_type": "stream",
     "text": [
      "'(ReadTimeoutError(\"HTTPSConnectionPool(host='huggingface.co', port=443): Read timed out. (read timeout=10)\"), '(Request ID: bf746eb2-9ce6-4ba7-b5e5-814182f9309d)')' thrown while requesting HEAD https://huggingface.co/sentence-transformers/all-MiniLM-L6-v2/resolve/main/./modules.json\n",
      "Retrying in 1s [Retry 1/5].\n",
      "'(MaxRetryError('HTTPSConnectionPool(host=\\'huggingface.co\\', port=443): Max retries exceeded with url: /sentence-transformers/all-MiniLM-L6-v2/resolve/main/modules.json (Caused by NameResolutionError(\"<urllib3.connection.HTTPSConnection object at 0x3824c7310>: Failed to resolve \\'huggingface.co\\' ([Errno 8] nodename nor servname provided, or not known)\"))'), '(Request ID: 2aaf8def-bf23-4bf3-9f28-7610dcca2dc9)')' thrown while requesting HEAD https://huggingface.co/sentence-transformers/all-MiniLM-L6-v2/resolve/main/./modules.json\n",
      "Retrying in 2s [Retry 2/5].\n",
      "'(MaxRetryError('HTTPSConnectionPool(host=\\'huggingface.co\\', port=443): Max retries exceeded with url: /sentence-transformers/all-MiniLM-L6-v2/resolve/main/modules.json (Caused by NameResolutionError(\"<urllib3.connection.HTTPSConnection object at 0x13721edd0>: Failed to resolve \\'huggingface.co\\' ([Errno 8] nodename nor servname provided, or not known)\"))'), '(Request ID: 4cfda6e2-7d85-43f0-8272-21dba48382cc)')' thrown while requesting HEAD https://huggingface.co/sentence-transformers/all-MiniLM-L6-v2/resolve/main/./modules.json\n",
      "Retrying in 4s [Retry 3/5].\n",
      "'(MaxRetryError('HTTPSConnectionPool(host=\\'huggingface.co\\', port=443): Max retries exceeded with url: /sentence-transformers/all-MiniLM-L6-v2/resolve/main/modules.json (Caused by NameResolutionError(\"<urllib3.connection.HTTPSConnection object at 0x13721f310>: Failed to resolve \\'huggingface.co\\' ([Errno 8] nodename nor servname provided, or not known)\"))'), '(Request ID: 1dc4c384-cec3-459b-a8ec-e45daee3bc1a)')' thrown while requesting HEAD https://huggingface.co/sentence-transformers/all-MiniLM-L6-v2/resolve/main/./modules.json\n",
      "Retrying in 8s [Retry 4/5].\n",
      "'(MaxRetryError('HTTPSConnectionPool(host=\\'huggingface.co\\', port=443): Max retries exceeded with url: /sentence-transformers/all-MiniLM-L6-v2/resolve/main/modules.json (Caused by NameResolutionError(\"<urllib3.connection.HTTPSConnection object at 0x133064c90>: Failed to resolve \\'huggingface.co\\' ([Errno 8] nodename nor servname provided, or not known)\"))'), '(Request ID: 7cfbbd28-8e67-41cd-a569-22c79d585f63)')' thrown while requesting HEAD https://huggingface.co/sentence-transformers/all-MiniLM-L6-v2/resolve/main/./modules.json\n",
      "Retrying in 8s [Retry 5/5].\n",
      "'(MaxRetryError('HTTPSConnectionPool(host=\\'huggingface.co\\', port=443): Max retries exceeded with url: /sentence-transformers/all-MiniLM-L6-v2/resolve/main/modules.json (Caused by NameResolutionError(\"<urllib3.connection.HTTPSConnection object at 0x133064690>: Failed to resolve \\'huggingface.co\\' ([Errno 8] nodename nor servname provided, or not known)\"))'), '(Request ID: cfe896e3-bf23-437b-a5f0-1827b5a78042)')' thrown while requesting HEAD https://huggingface.co/sentence-transformers/all-MiniLM-L6-v2/resolve/main/./modules.json\n",
      "'(MaxRetryError('HTTPSConnectionPool(host=\\'huggingface.co\\', port=443): Max retries exceeded with url: /sentence-transformers/all-MiniLM-L6-v2/resolve/main/config_sentence_transformers.json (Caused by NameResolutionError(\"<urllib3.connection.HTTPSConnection object at 0x133067d90>: Failed to resolve \\'huggingface.co\\' ([Errno 8] nodename nor servname provided, or not known)\"))'), '(Request ID: 3be6c41e-93e6-46e4-bb45-0498c3eff024)')' thrown while requesting HEAD https://huggingface.co/sentence-transformers/all-MiniLM-L6-v2/resolve/main/./config_sentence_transformers.json\n",
      "Retrying in 1s [Retry 1/5].\n",
      "'(MaxRetryError('HTTPSConnectionPool(host=\\'huggingface.co\\', port=443): Max retries exceeded with url: /sentence-transformers/all-MiniLM-L6-v2/resolve/main/config_sentence_transformers.json (Caused by NameResolutionError(\"<urllib3.connection.HTTPSConnection object at 0x1330660d0>: Failed to resolve \\'huggingface.co\\' ([Errno 8] nodename nor servname provided, or not known)\"))'), '(Request ID: 8a0c7b80-cd49-4351-afe1-3e288bf88ea0)')' thrown while requesting HEAD https://huggingface.co/sentence-transformers/all-MiniLM-L6-v2/resolve/main/./config_sentence_transformers.json\n",
      "Retrying in 2s [Retry 2/5].\n",
      "'(MaxRetryError('HTTPSConnectionPool(host=\\'huggingface.co\\', port=443): Max retries exceeded with url: /sentence-transformers/all-MiniLM-L6-v2/resolve/main/config_sentence_transformers.json (Caused by NameResolutionError(\"<urllib3.connection.HTTPSConnection object at 0x133064e10>: Failed to resolve \\'huggingface.co\\' ([Errno 8] nodename nor servname provided, or not known)\"))'), '(Request ID: 360466e7-a470-4290-81b3-e1494f70285d)')' thrown while requesting HEAD https://huggingface.co/sentence-transformers/all-MiniLM-L6-v2/resolve/main/./config_sentence_transformers.json\n",
      "Retrying in 4s [Retry 3/5].\n",
      "'(MaxRetryError('HTTPSConnectionPool(host=\\'huggingface.co\\', port=443): Max retries exceeded with url: /sentence-transformers/all-MiniLM-L6-v2/resolve/main/config_sentence_transformers.json (Caused by NameResolutionError(\"<urllib3.connection.HTTPSConnection object at 0x168840d50>: Failed to resolve \\'huggingface.co\\' ([Errno 8] nodename nor servname provided, or not known)\"))'), '(Request ID: d1ea174b-892d-487a-89cd-9ad21d99329b)')' thrown while requesting HEAD https://huggingface.co/sentence-transformers/all-MiniLM-L6-v2/resolve/main/./config_sentence_transformers.json\n",
      "Retrying in 8s [Retry 4/5].\n",
      "'(MaxRetryError('HTTPSConnectionPool(host=\\'huggingface.co\\', port=443): Max retries exceeded with url: /sentence-transformers/all-MiniLM-L6-v2/resolve/main/config_sentence_transformers.json (Caused by NameResolutionError(\"<urllib3.connection.HTTPSConnection object at 0x165226090>: Failed to resolve \\'huggingface.co\\' ([Errno 8] nodename nor servname provided, or not known)\"))'), '(Request ID: abc6292c-d8a2-4d15-8235-eadad4dd2123)')' thrown while requesting HEAD https://huggingface.co/sentence-transformers/all-MiniLM-L6-v2/resolve/main/./config_sentence_transformers.json\n",
      "Retrying in 8s [Retry 5/5].\n",
      "'(MaxRetryError('HTTPSConnectionPool(host=\\'huggingface.co\\', port=443): Max retries exceeded with url: /sentence-transformers/all-MiniLM-L6-v2/resolve/main/config_sentence_transformers.json (Caused by NameResolutionError(\"<urllib3.connection.HTTPSConnection object at 0x13721cb50>: Failed to resolve \\'huggingface.co\\' ([Errno 8] nodename nor servname provided, or not known)\"))'), '(Request ID: b2fd947a-f280-4160-b14d-acad38414adb)')' thrown while requesting HEAD https://huggingface.co/sentence-transformers/all-MiniLM-L6-v2/resolve/main/./config_sentence_transformers.json\n",
      "'(MaxRetryError('HTTPSConnectionPool(host=\\'huggingface.co\\', port=443): Max retries exceeded with url: /sentence-transformers/all-MiniLM-L6-v2/resolve/main/config_sentence_transformers.json (Caused by NameResolutionError(\"<urllib3.connection.HTTPSConnection object at 0x133060b90>: Failed to resolve \\'huggingface.co\\' ([Errno 8] nodename nor servname provided, or not known)\"))'), '(Request ID: bcbb06d9-ea99-474a-b12a-6a3a0fba74ae)')' thrown while requesting HEAD https://huggingface.co/sentence-transformers/all-MiniLM-L6-v2/resolve/main/./config_sentence_transformers.json\n",
      "Retrying in 1s [Retry 1/5].\n",
      "'(MaxRetryError('HTTPSConnectionPool(host=\\'huggingface.co\\', port=443): Max retries exceeded with url: /sentence-transformers/all-MiniLM-L6-v2/resolve/main/config_sentence_transformers.json (Caused by NameResolutionError(\"<urllib3.connection.HTTPSConnection object at 0x133061b90>: Failed to resolve \\'huggingface.co\\' ([Errno 8] nodename nor servname provided, or not known)\"))'), '(Request ID: b092fc92-7723-4cf4-9840-fc7660ef2704)')' thrown while requesting HEAD https://huggingface.co/sentence-transformers/all-MiniLM-L6-v2/resolve/main/./config_sentence_transformers.json\n",
      "Retrying in 2s [Retry 2/5].\n",
      "'(MaxRetryError('HTTPSConnectionPool(host=\\'huggingface.co\\', port=443): Max retries exceeded with url: /sentence-transformers/all-MiniLM-L6-v2/resolve/main/config_sentence_transformers.json (Caused by NameResolutionError(\"<urllib3.connection.HTTPSConnection object at 0x133062a90>: Failed to resolve \\'huggingface.co\\' ([Errno 8] nodename nor servname provided, or not known)\"))'), '(Request ID: 253ef672-4715-4086-973b-7cb53f149277)')' thrown while requesting HEAD https://huggingface.co/sentence-transformers/all-MiniLM-L6-v2/resolve/main/./config_sentence_transformers.json\n",
      "Retrying in 4s [Retry 3/5].\n",
      "'(MaxRetryError('HTTPSConnectionPool(host=\\'huggingface.co\\', port=443): Max retries exceeded with url: /sentence-transformers/all-MiniLM-L6-v2/resolve/main/config_sentence_transformers.json (Caused by NameResolutionError(\"<urllib3.connection.HTTPSConnection object at 0x133063a10>: Failed to resolve \\'huggingface.co\\' ([Errno 8] nodename nor servname provided, or not known)\"))'), '(Request ID: d4ee1692-db00-4437-8cfb-0d9c4bed905d)')' thrown while requesting HEAD https://huggingface.co/sentence-transformers/all-MiniLM-L6-v2/resolve/main/./config_sentence_transformers.json\n",
      "Retrying in 8s [Retry 4/5].\n",
      "'(MaxRetryError('HTTPSConnectionPool(host=\\'huggingface.co\\', port=443): Max retries exceeded with url: /sentence-transformers/all-MiniLM-L6-v2/resolve/main/config_sentence_transformers.json (Caused by NameResolutionError(\"<urllib3.connection.HTTPSConnection object at 0x13305c910>: Failed to resolve \\'huggingface.co\\' ([Errno 8] nodename nor servname provided, or not known)\"))'), '(Request ID: bb551e1d-c6ba-4650-aad9-9f41624d561b)')' thrown while requesting HEAD https://huggingface.co/sentence-transformers/all-MiniLM-L6-v2/resolve/main/./config_sentence_transformers.json\n",
      "Retrying in 8s [Retry 5/5].\n",
      "'(MaxRetryError('HTTPSConnectionPool(host=\\'huggingface.co\\', port=443): Max retries exceeded with url: /sentence-transformers/all-MiniLM-L6-v2/resolve/main/config_sentence_transformers.json (Caused by NameResolutionError(\"<urllib3.connection.HTTPSConnection object at 0x13305d790>: Failed to resolve \\'huggingface.co\\' ([Errno 8] nodename nor servname provided, or not known)\"))'), '(Request ID: af26768f-5cfa-467d-b780-185ad5db63af)')' thrown while requesting HEAD https://huggingface.co/sentence-transformers/all-MiniLM-L6-v2/resolve/main/./config_sentence_transformers.json\n",
      "'(MaxRetryError('HTTPSConnectionPool(host=\\'huggingface.co\\', port=443): Max retries exceeded with url: /sentence-transformers/all-MiniLM-L6-v2/resolve/main/README.md (Caused by NameResolutionError(\"<urllib3.connection.HTTPSConnection object at 0x133062910>: Failed to resolve \\'huggingface.co\\' ([Errno 8] nodename nor servname provided, or not known)\"))'), '(Request ID: c88eadbf-7e42-4155-8720-795c226ef821)')' thrown while requesting HEAD https://huggingface.co/sentence-transformers/all-MiniLM-L6-v2/resolve/main/./README.md\n",
      "Retrying in 1s [Retry 1/5].\n",
      "'(MaxRetryError('HTTPSConnectionPool(host=\\'huggingface.co\\', port=443): Max retries exceeded with url: /sentence-transformers/all-MiniLM-L6-v2/resolve/main/README.md (Caused by NameResolutionError(\"<urllib3.connection.HTTPSConnection object at 0x1330618d0>: Failed to resolve \\'huggingface.co\\' ([Errno 8] nodename nor servname provided, or not known)\"))'), '(Request ID: 28f3f135-762a-4ccc-8bd2-942733aa92a5)')' thrown while requesting HEAD https://huggingface.co/sentence-transformers/all-MiniLM-L6-v2/resolve/main/./README.md\n",
      "Retrying in 2s [Retry 2/5].\n",
      "'(MaxRetryError('HTTPSConnectionPool(host=\\'huggingface.co\\', port=443): Max retries exceeded with url: /sentence-transformers/all-MiniLM-L6-v2/resolve/main/README.md (Caused by NameResolutionError(\"<urllib3.connection.HTTPSConnection object at 0x133060990>: Failed to resolve \\'huggingface.co\\' ([Errno 8] nodename nor servname provided, or not known)\"))'), '(Request ID: 7490608e-7d20-44c7-8985-53a69555f29b)')' thrown while requesting HEAD https://huggingface.co/sentence-transformers/all-MiniLM-L6-v2/resolve/main/./README.md\n",
      "Retrying in 4s [Retry 3/5].\n",
      "'(MaxRetryError('HTTPSConnectionPool(host=\\'huggingface.co\\', port=443): Max retries exceeded with url: /sentence-transformers/all-MiniLM-L6-v2/resolve/main/README.md (Caused by NameResolutionError(\"<urllib3.connection.HTTPSConnection object at 0x38a8dab50>: Failed to resolve \\'huggingface.co\\' ([Errno 8] nodename nor servname provided, or not known)\"))'), '(Request ID: 2d3ddc4f-754e-4ff4-b794-38ce75c8b1e4)')' thrown while requesting HEAD https://huggingface.co/sentence-transformers/all-MiniLM-L6-v2/resolve/main/./README.md\n",
      "Retrying in 8s [Retry 4/5].\n",
      "'(MaxRetryError('HTTPSConnectionPool(host=\\'huggingface.co\\', port=443): Max retries exceeded with url: /sentence-transformers/all-MiniLM-L6-v2/resolve/main/README.md (Caused by NameResolutionError(\"<urllib3.connection.HTTPSConnection object at 0x13721f7d0>: Failed to resolve \\'huggingface.co\\' ([Errno 8] nodename nor servname provided, or not known)\"))'), '(Request ID: 84c48561-2c5a-47df-8444-a7e80c01fd4e)')' thrown while requesting HEAD https://huggingface.co/sentence-transformers/all-MiniLM-L6-v2/resolve/main/./README.md\n",
      "Retrying in 8s [Retry 5/5].\n",
      "'(MaxRetryError('HTTPSConnectionPool(host=\\'huggingface.co\\', port=443): Max retries exceeded with url: /sentence-transformers/all-MiniLM-L6-v2/resolve/main/README.md (Caused by NameResolutionError(\"<urllib3.connection.HTTPSConnection object at 0x165225710>: Failed to resolve \\'huggingface.co\\' ([Errno 8] nodename nor servname provided, or not known)\"))'), '(Request ID: b1112725-aa84-41f2-993f-9e4ed2259a5c)')' thrown while requesting HEAD https://huggingface.co/sentence-transformers/all-MiniLM-L6-v2/resolve/main/./README.md\n",
      "'(MaxRetryError('HTTPSConnectionPool(host=\\'huggingface.co\\', port=443): Max retries exceeded with url: /sentence-transformers/all-MiniLM-L6-v2/resolve/main/modules.json (Caused by NameResolutionError(\"<urllib3.connection.HTTPSConnection object at 0x1330677d0>: Failed to resolve \\'huggingface.co\\' ([Errno 8] nodename nor servname provided, or not known)\"))'), '(Request ID: 3ffedba7-585d-4d3b-8115-c3b3a0f3ed42)')' thrown while requesting HEAD https://huggingface.co/sentence-transformers/all-MiniLM-L6-v2/resolve/main/./modules.json\n",
      "Retrying in 1s [Retry 1/5].\n",
      "'(MaxRetryError('HTTPSConnectionPool(host=\\'huggingface.co\\', port=443): Max retries exceeded with url: /sentence-transformers/all-MiniLM-L6-v2/resolve/main/modules.json (Caused by NameResolutionError(\"<urllib3.connection.HTTPSConnection object at 0x13305c690>: Failed to resolve \\'huggingface.co\\' ([Errno 8] nodename nor servname provided, or not known)\"))'), '(Request ID: ce96124d-9444-493d-8285-1e8f41676974)')' thrown while requesting HEAD https://huggingface.co/sentence-transformers/all-MiniLM-L6-v2/resolve/main/./modules.json\n",
      "Retrying in 2s [Retry 2/5].\n",
      "'(MaxRetryError('HTTPSConnectionPool(host=\\'huggingface.co\\', port=443): Max retries exceeded with url: /sentence-transformers/all-MiniLM-L6-v2/resolve/main/modules.json (Caused by NameResolutionError(\"<urllib3.connection.HTTPSConnection object at 0x13305ea90>: Failed to resolve \\'huggingface.co\\' ([Errno 8] nodename nor servname provided, or not known)\"))'), '(Request ID: 115aab5c-98aa-4406-968e-5762c6c911dc)')' thrown while requesting HEAD https://huggingface.co/sentence-transformers/all-MiniLM-L6-v2/resolve/main/./modules.json\n",
      "Retrying in 4s [Retry 3/5].\n",
      "'(MaxRetryError('HTTPSConnectionPool(host=\\'huggingface.co\\', port=443): Max retries exceeded with url: /sentence-transformers/all-MiniLM-L6-v2/resolve/main/modules.json (Caused by NameResolutionError(\"<urllib3.connection.HTTPSConnection object at 0x13305f990>: Failed to resolve \\'huggingface.co\\' ([Errno 8] nodename nor servname provided, or not known)\"))'), '(Request ID: 99d49b3b-0a97-49d8-ad19-4ffa8a0d41e2)')' thrown while requesting HEAD https://huggingface.co/sentence-transformers/all-MiniLM-L6-v2/resolve/main/./modules.json\n",
      "Retrying in 8s [Retry 4/5].\n",
      "'(MaxRetryError('HTTPSConnectionPool(host=\\'huggingface.co\\', port=443): Max retries exceeded with url: /sentence-transformers/all-MiniLM-L6-v2/resolve/main/modules.json (Caused by NameResolutionError(\"<urllib3.connection.HTTPSConnection object at 0x133064810>: Failed to resolve \\'huggingface.co\\' ([Errno 8] nodename nor servname provided, or not known)\"))'), '(Request ID: 55cf2e6f-cf2b-490c-849b-69b4a3c897c2)')' thrown while requesting HEAD https://huggingface.co/sentence-transformers/all-MiniLM-L6-v2/resolve/main/./modules.json\n",
      "Retrying in 8s [Retry 5/5].\n",
      "'(MaxRetryError('HTTPSConnectionPool(host=\\'huggingface.co\\', port=443): Max retries exceeded with url: /sentence-transformers/all-MiniLM-L6-v2/resolve/main/modules.json (Caused by NameResolutionError(\"<urllib3.connection.HTTPSConnection object at 0x133065b50>: Failed to resolve \\'huggingface.co\\' ([Errno 8] nodename nor servname provided, or not known)\"))'), '(Request ID: 49d1bdc0-0843-4370-8243-13229591cb8c)')' thrown while requesting HEAD https://huggingface.co/sentence-transformers/all-MiniLM-L6-v2/resolve/main/./modules.json\n",
      "'(MaxRetryError('HTTPSConnectionPool(host=\\'huggingface.co\\', port=443): Max retries exceeded with url: /sentence-transformers/all-MiniLM-L6-v2/resolve/main/sentence_bert_config.json (Caused by NameResolutionError(\"<urllib3.connection.HTTPSConnection object at 0x13721e6d0>: Failed to resolve \\'huggingface.co\\' ([Errno 8] nodename nor servname provided, or not known)\"))'), '(Request ID: c2d80f5d-1faf-40c3-b94c-2bfb8f14c41d)')' thrown while requesting HEAD https://huggingface.co/sentence-transformers/all-MiniLM-L6-v2/resolve/main/./sentence_bert_config.json\n",
      "Retrying in 1s [Retry 1/5].\n",
      "'(MaxRetryError('HTTPSConnectionPool(host=\\'huggingface.co\\', port=443): Max retries exceeded with url: /sentence-transformers/all-MiniLM-L6-v2/resolve/main/sentence_bert_config.json (Caused by NameResolutionError(\"<urllib3.connection.HTTPSConnection object at 0x1330632d0>: Failed to resolve \\'huggingface.co\\' ([Errno 8] nodename nor servname provided, or not known)\"))'), '(Request ID: 6b89ddd6-1da7-44e4-9ac9-c37bec39f081)')' thrown while requesting HEAD https://huggingface.co/sentence-transformers/all-MiniLM-L6-v2/resolve/main/./sentence_bert_config.json\n",
      "Retrying in 2s [Retry 2/5].\n",
      "'(MaxRetryError('HTTPSConnectionPool(host=\\'huggingface.co\\', port=443): Max retries exceeded with url: /sentence-transformers/all-MiniLM-L6-v2/resolve/main/sentence_bert_config.json (Caused by NameResolutionError(\"<urllib3.connection.HTTPSConnection object at 0x133061c10>: Failed to resolve \\'huggingface.co\\' ([Errno 8] nodename nor servname provided, or not known)\"))'), '(Request ID: 5e8e0f25-b28b-4058-930c-70bf31143b1c)')' thrown while requesting HEAD https://huggingface.co/sentence-transformers/all-MiniLM-L6-v2/resolve/main/./sentence_bert_config.json\n",
      "Retrying in 4s [Retry 3/5].\n",
      "'(MaxRetryError('HTTPSConnectionPool(host=\\'huggingface.co\\', port=443): Max retries exceeded with url: /sentence-transformers/all-MiniLM-L6-v2/resolve/main/sentence_bert_config.json (Caused by NameResolutionError(\"<urllib3.connection.HTTPSConnection object at 0x133063910>: Failed to resolve \\'huggingface.co\\' ([Errno 8] nodename nor servname provided, or not known)\"))'), '(Request ID: 326a163e-fee6-4a0b-bad5-14934057b50e)')' thrown while requesting HEAD https://huggingface.co/sentence-transformers/all-MiniLM-L6-v2/resolve/main/./sentence_bert_config.json\n",
      "Retrying in 8s [Retry 4/5].\n",
      "'(MaxRetryError('HTTPSConnectionPool(host=\\'huggingface.co\\', port=443): Max retries exceeded with url: /sentence-transformers/all-MiniLM-L6-v2/resolve/main/sentence_bert_config.json (Caused by NameResolutionError(\"<urllib3.connection.HTTPSConnection object at 0x13305e850>: Failed to resolve \\'huggingface.co\\' ([Errno 8] nodename nor servname provided, or not known)\"))'), '(Request ID: 79ad9106-e3e9-445d-824a-c673683db2d0)')' thrown while requesting HEAD https://huggingface.co/sentence-transformers/all-MiniLM-L6-v2/resolve/main/./sentence_bert_config.json\n",
      "Retrying in 8s [Retry 5/5].\n",
      "'(MaxRetryError('HTTPSConnectionPool(host=\\'huggingface.co\\', port=443): Max retries exceeded with url: /sentence-transformers/all-MiniLM-L6-v2/resolve/main/sentence_bert_config.json (Caused by NameResolutionError(\"<urllib3.connection.HTTPSConnection object at 0x1356580d0>: Failed to resolve \\'huggingface.co\\' ([Errno 8] nodename nor servname provided, or not known)\"))'), '(Request ID: 39c5a66f-7ee4-48de-934b-ba03d43b47fc)')' thrown while requesting HEAD https://huggingface.co/sentence-transformers/all-MiniLM-L6-v2/resolve/main/./sentence_bert_config.json\n",
      "'(MaxRetryError('HTTPSConnectionPool(host=\\'huggingface.co\\', port=443): Max retries exceeded with url: /sentence-transformers/all-MiniLM-L6-v2/resolve/main/adapter_config.json (Caused by NameResolutionError(\"<urllib3.connection.HTTPSConnection object at 0x133062bd0>: Failed to resolve \\'huggingface.co\\' ([Errno 8] nodename nor servname provided, or not known)\"))'), '(Request ID: deff2d3d-a68d-460e-8848-7929c1c7bbdf)')' thrown while requesting HEAD https://huggingface.co/sentence-transformers/all-MiniLM-L6-v2/resolve/main/adapter_config.json\n",
      "Retrying in 1s [Retry 1/5].\n",
      "'(MaxRetryError('HTTPSConnectionPool(host=\\'huggingface.co\\', port=443): Max retries exceeded with url: /sentence-transformers/all-MiniLM-L6-v2/resolve/main/adapter_config.json (Caused by NameResolutionError(\"<urllib3.connection.HTTPSConnection object at 0x1330638d0>: Failed to resolve \\'huggingface.co\\' ([Errno 8] nodename nor servname provided, or not known)\"))'), '(Request ID: f3aacf75-9d90-4b0c-8baf-1793cccead72)')' thrown while requesting HEAD https://huggingface.co/sentence-transformers/all-MiniLM-L6-v2/resolve/main/adapter_config.json\n",
      "Retrying in 2s [Retry 2/5].\n",
      "'(MaxRetryError('HTTPSConnectionPool(host=\\'huggingface.co\\', port=443): Max retries exceeded with url: /sentence-transformers/all-MiniLM-L6-v2/resolve/main/adapter_config.json (Caused by NameResolutionError(\"<urllib3.connection.HTTPSConnection object at 0x1330606d0>: Failed to resolve \\'huggingface.co\\' ([Errno 8] nodename nor servname provided, or not known)\"))'), '(Request ID: d2722069-e78d-4dee-85dc-6948a56c02c5)')' thrown while requesting HEAD https://huggingface.co/sentence-transformers/all-MiniLM-L6-v2/resolve/main/adapter_config.json\n",
      "Retrying in 4s [Retry 3/5].\n",
      "'(MaxRetryError('HTTPSConnectionPool(host=\\'huggingface.co\\', port=443): Max retries exceeded with url: /sentence-transformers/all-MiniLM-L6-v2/resolve/main/adapter_config.json (Caused by NameResolutionError(\"<urllib3.connection.HTTPSConnection object at 0x38651a850>: Failed to resolve \\'huggingface.co\\' ([Errno 8] nodename nor servname provided, or not known)\"))'), '(Request ID: a4446aba-03c6-469b-8d34-c051e1492f8d)')' thrown while requesting HEAD https://huggingface.co/sentence-transformers/all-MiniLM-L6-v2/resolve/main/adapter_config.json\n",
      "Retrying in 8s [Retry 4/5].\n",
      "'(MaxRetryError('HTTPSConnectionPool(host=\\'huggingface.co\\', port=443): Max retries exceeded with url: /sentence-transformers/all-MiniLM-L6-v2/resolve/main/adapter_config.json (Caused by NameResolutionError(\"<urllib3.connection.HTTPSConnection object at 0x13305f490>: Failed to resolve \\'huggingface.co\\' ([Errno 8] nodename nor servname provided, or not known)\"))'), '(Request ID: d3de3aa8-4cae-4a59-9469-aa5f55a308c5)')' thrown while requesting HEAD https://huggingface.co/sentence-transformers/all-MiniLM-L6-v2/resolve/main/adapter_config.json\n",
      "Retrying in 8s [Retry 5/5].\n",
      "'(MaxRetryError('HTTPSConnectionPool(host=\\'huggingface.co\\', port=443): Max retries exceeded with url: /sentence-transformers/all-MiniLM-L6-v2/resolve/main/adapter_config.json (Caused by NameResolutionError(\"<urllib3.connection.HTTPSConnection object at 0x13305e690>: Failed to resolve \\'huggingface.co\\' ([Errno 8] nodename nor servname provided, or not known)\"))'), '(Request ID: f27f45ce-5942-4310-bd48-821bc11fc2f0)')' thrown while requesting HEAD https://huggingface.co/sentence-transformers/all-MiniLM-L6-v2/resolve/main/adapter_config.json\n",
      "'(MaxRetryError('HTTPSConnectionPool(host=\\'huggingface.co\\', port=443): Max retries exceeded with url: /sentence-transformers/all-MiniLM-L6-v2/resolve/main/config.json (Caused by NameResolutionError(\"<urllib3.connection.HTTPSConnection object at 0x135658110>: Failed to resolve \\'huggingface.co\\' ([Errno 8] nodename nor servname provided, or not known)\"))'), '(Request ID: a70c8ffe-3a4b-458c-82d8-1c99b06f6df2)')' thrown while requesting HEAD https://huggingface.co/sentence-transformers/all-MiniLM-L6-v2/resolve/main/config.json\n",
      "Retrying in 1s [Retry 1/5].\n",
      "'(MaxRetryError('HTTPSConnectionPool(host=\\'huggingface.co\\', port=443): Max retries exceeded with url: /sentence-transformers/all-MiniLM-L6-v2/resolve/main/config.json (Caused by NameResolutionError(\"<urllib3.connection.HTTPSConnection object at 0x13565b3d0>: Failed to resolve \\'huggingface.co\\' ([Errno 8] nodename nor servname provided, or not known)\"))'), '(Request ID: c53d279e-b780-4b8e-ae78-21fb4f64a175)')' thrown while requesting HEAD https://huggingface.co/sentence-transformers/all-MiniLM-L6-v2/resolve/main/config.json\n",
      "Retrying in 2s [Retry 2/5].\n",
      "'(MaxRetryError('HTTPSConnectionPool(host=\\'huggingface.co\\', port=443): Max retries exceeded with url: /sentence-transformers/all-MiniLM-L6-v2/resolve/main/config.json (Caused by NameResolutionError(\"<urllib3.connection.HTTPSConnection object at 0x135588290>: Failed to resolve \\'huggingface.co\\' ([Errno 8] nodename nor servname provided, or not known)\"))'), '(Request ID: 644184d9-1b39-46a2-9b29-f761f7abb6fa)')' thrown while requesting HEAD https://huggingface.co/sentence-transformers/all-MiniLM-L6-v2/resolve/main/config.json\n",
      "Retrying in 4s [Retry 3/5].\n",
      "'(MaxRetryError('HTTPSConnectionPool(host=\\'huggingface.co\\', port=443): Max retries exceeded with url: /sentence-transformers/all-MiniLM-L6-v2/resolve/main/config.json (Caused by NameResolutionError(\"<urllib3.connection.HTTPSConnection object at 0x135589190>: Failed to resolve \\'huggingface.co\\' ([Errno 8] nodename nor servname provided, or not known)\"))'), '(Request ID: cea9b442-0307-4afc-933c-53e22e90c385)')' thrown while requesting HEAD https://huggingface.co/sentence-transformers/all-MiniLM-L6-v2/resolve/main/config.json\n",
      "Retrying in 8s [Retry 4/5].\n",
      "'(MaxRetryError('HTTPSConnectionPool(host=\\'huggingface.co\\', port=443): Max retries exceeded with url: /sentence-transformers/all-MiniLM-L6-v2/resolve/main/config.json (Caused by NameResolutionError(\"<urllib3.connection.HTTPSConnection object at 0x13558a010>: Failed to resolve \\'huggingface.co\\' ([Errno 8] nodename nor servname provided, or not known)\"))'), '(Request ID: e9b02563-b162-44bd-922f-8161901cbc81)')' thrown while requesting HEAD https://huggingface.co/sentence-transformers/all-MiniLM-L6-v2/resolve/main/config.json\n",
      "Retrying in 8s [Retry 5/5].\n",
      "'(MaxRetryError('HTTPSConnectionPool(host=\\'huggingface.co\\', port=443): Max retries exceeded with url: /sentence-transformers/all-MiniLM-L6-v2/resolve/main/config.json (Caused by NameResolutionError(\"<urllib3.connection.HTTPSConnection object at 0x13558ae50>: Failed to resolve \\'huggingface.co\\' ([Errno 8] nodename nor servname provided, or not known)\"))'), '(Request ID: 7959204d-746a-4b78-b9a9-888d1763a582)')' thrown while requesting HEAD https://huggingface.co/sentence-transformers/all-MiniLM-L6-v2/resolve/main/config.json\n",
      "'(MaxRetryError('HTTPSConnectionPool(host=\\'huggingface.co\\', port=443): Max retries exceeded with url: /sentence-transformers/all-MiniLM-L6-v2/resolve/main/tokenizer_config.json (Caused by NameResolutionError(\"<urllib3.connection.HTTPSConnection object at 0x13558bf50>: Failed to resolve \\'huggingface.co\\' ([Errno 8] nodename nor servname provided, or not known)\"))'), '(Request ID: 4755ff54-f127-41a5-9110-bb0948440095)')' thrown while requesting HEAD https://huggingface.co/sentence-transformers/all-MiniLM-L6-v2/resolve/main/tokenizer_config.json\n",
      "Retrying in 1s [Retry 1/5].\n",
      "'(MaxRetryError('HTTPSConnectionPool(host=\\'huggingface.co\\', port=443): Max retries exceeded with url: /sentence-transformers/all-MiniLM-L6-v2/resolve/main/tokenizer_config.json (Caused by NameResolutionError(\"<urllib3.connection.HTTPSConnection object at 0x1688406d0>: Failed to resolve \\'huggingface.co\\' ([Errno 8] nodename nor servname provided, or not known)\"))'), '(Request ID: 80c894ff-ff7b-47fe-be45-6e1117f4e1ad)')' thrown while requesting HEAD https://huggingface.co/sentence-transformers/all-MiniLM-L6-v2/resolve/main/tokenizer_config.json\n",
      "Retrying in 2s [Retry 2/5].\n",
      "'(MaxRetryError('HTTPSConnectionPool(host=\\'huggingface.co\\', port=443): Max retries exceeded with url: /sentence-transformers/all-MiniLM-L6-v2/resolve/main/tokenizer_config.json (Caused by NameResolutionError(\"<urllib3.connection.HTTPSConnection object at 0x135691e90>: Failed to resolve \\'huggingface.co\\' ([Errno 8] nodename nor servname provided, or not known)\"))'), '(Request ID: 9ed4e16f-db6c-49c6-b858-5af466bef328)')' thrown while requesting HEAD https://huggingface.co/sentence-transformers/all-MiniLM-L6-v2/resolve/main/tokenizer_config.json\n",
      "Retrying in 4s [Retry 3/5].\n",
      "'(MaxRetryError('HTTPSConnectionPool(host=\\'huggingface.co\\', port=443): Max retries exceeded with url: /sentence-transformers/all-MiniLM-L6-v2/resolve/main/tokenizer_config.json (Caused by NameResolutionError(\"<urllib3.connection.HTTPSConnection object at 0x135692cd0>: Failed to resolve \\'huggingface.co\\' ([Errno 8] nodename nor servname provided, or not known)\"))'), '(Request ID: 45a69e08-a5db-4690-a0d5-7653759b9b69)')' thrown while requesting HEAD https://huggingface.co/sentence-transformers/all-MiniLM-L6-v2/resolve/main/tokenizer_config.json\n",
      "Retrying in 8s [Retry 4/5].\n",
      "'(MaxRetryError('HTTPSConnectionPool(host=\\'huggingface.co\\', port=443): Max retries exceeded with url: /sentence-transformers/all-MiniLM-L6-v2/resolve/main/tokenizer_config.json (Caused by NameResolutionError(\"<urllib3.connection.HTTPSConnection object at 0x135693ad0>: Failed to resolve \\'huggingface.co\\' ([Errno 8] nodename nor servname provided, or not known)\"))'), '(Request ID: f716aea2-add3-4b4b-826e-d59cc90ff70b)')' thrown while requesting HEAD https://huggingface.co/sentence-transformers/all-MiniLM-L6-v2/resolve/main/tokenizer_config.json\n",
      "Retrying in 8s [Retry 5/5].\n",
      "'(MaxRetryError('HTTPSConnectionPool(host=\\'huggingface.co\\', port=443): Max retries exceeded with url: /sentence-transformers/all-MiniLM-L6-v2/resolve/main/tokenizer_config.json (Caused by NameResolutionError(\"<urllib3.connection.HTTPSConnection object at 0x135760990>: Failed to resolve \\'huggingface.co\\' ([Errno 8] nodename nor servname provided, or not known)\"))'), '(Request ID: 88dc1311-3371-4540-99cd-1c4481afd08e)')' thrown while requesting HEAD https://huggingface.co/sentence-transformers/all-MiniLM-L6-v2/resolve/main/tokenizer_config.json\n",
      "'(MaxRetryError('HTTPSConnectionPool(host=\\'huggingface.co\\', port=443): Max retries exceeded with url: /sentence-transformers/all-MiniLM-L6-v2/resolve/main/1_Pooling/config.json (Caused by NameResolutionError(\"<urllib3.connection.HTTPSConnection object at 0x135763f10>: Failed to resolve \\'huggingface.co\\' ([Errno 8] nodename nor servname provided, or not known)\"))'), '(Request ID: a1c8ea03-d633-48a8-8fd7-7848387a8fa6)')' thrown while requesting HEAD https://huggingface.co/sentence-transformers/all-MiniLM-L6-v2/resolve/main/1_Pooling/config.json\n",
      "Retrying in 1s [Retry 1/5].\n",
      "'(MaxRetryError('HTTPSConnectionPool(host=\\'huggingface.co\\', port=443): Max retries exceeded with url: /sentence-transformers/all-MiniLM-L6-v2/resolve/main/1_Pooling/config.json (Caused by NameResolutionError(\"<urllib3.connection.HTTPSConnection object at 0x135763090>: Failed to resolve \\'huggingface.co\\' ([Errno 8] nodename nor servname provided, or not known)\"))'), '(Request ID: d1cffdf6-b51b-4a43-bed4-578a7fac5e9e)')' thrown while requesting HEAD https://huggingface.co/sentence-transformers/all-MiniLM-L6-v2/resolve/main/1_Pooling/config.json\n",
      "Retrying in 2s [Retry 2/5].\n",
      "'(MaxRetryError('HTTPSConnectionPool(host=\\'huggingface.co\\', port=443): Max retries exceeded with url: /sentence-transformers/all-MiniLM-L6-v2/resolve/main/1_Pooling/config.json (Caused by NameResolutionError(\"<urllib3.connection.HTTPSConnection object at 0x135760890>: Failed to resolve \\'huggingface.co\\' ([Errno 8] nodename nor servname provided, or not known)\"))'), '(Request ID: 3f71c016-0a7c-4232-9170-1920df3a85cf)')' thrown while requesting HEAD https://huggingface.co/sentence-transformers/all-MiniLM-L6-v2/resolve/main/1_Pooling/config.json\n",
      "Retrying in 4s [Retry 3/5].\n",
      "'(MaxRetryError('HTTPSConnectionPool(host=\\'huggingface.co\\', port=443): Max retries exceeded with url: /sentence-transformers/all-MiniLM-L6-v2/resolve/main/1_Pooling/config.json (Caused by NameResolutionError(\"<urllib3.connection.HTTPSConnection object at 0x138ceb350>: Failed to resolve \\'huggingface.co\\' ([Errno 8] nodename nor servname provided, or not known)\"))'), '(Request ID: 8d0a4a15-5635-4ac1-9b35-af1bf93780a8)')' thrown while requesting HEAD https://huggingface.co/sentence-transformers/all-MiniLM-L6-v2/resolve/main/1_Pooling/config.json\n",
      "Retrying in 8s [Retry 4/5].\n",
      "'(MaxRetryError('HTTPSConnectionPool(host=\\'huggingface.co\\', port=443): Max retries exceeded with url: /sentence-transformers/all-MiniLM-L6-v2/resolve/main/1_Pooling/config.json (Caused by NameResolutionError(\"<urllib3.connection.HTTPSConnection object at 0x135692b90>: Failed to resolve \\'huggingface.co\\' ([Errno 8] nodename nor servname provided, or not known)\"))'), '(Request ID: 20aef696-e8d4-4f01-ac61-49c3030a9c3a)')' thrown while requesting HEAD https://huggingface.co/sentence-transformers/all-MiniLM-L6-v2/resolve/main/1_Pooling/config.json\n",
      "Retrying in 8s [Retry 5/5].\n",
      "'(MaxRetryError('HTTPSConnectionPool(host=\\'huggingface.co\\', port=443): Max retries exceeded with url: /sentence-transformers/all-MiniLM-L6-v2/resolve/main/1_Pooling/config.json (Caused by NameResolutionError(\"<urllib3.connection.HTTPSConnection object at 0x135692710>: Failed to resolve \\'huggingface.co\\' ([Errno 8] nodename nor servname provided, or not known)\"))'), '(Request ID: 4af1e687-775d-4640-a05e-2a15b0edc37e)')' thrown while requesting HEAD https://huggingface.co/sentence-transformers/all-MiniLM-L6-v2/resolve/main/1_Pooling/config.json\n"
     ]
    }
   ],
   "source": [
    "model_faster = SentenceTransformer('sentence-transformers/all-MiniLM-L6-v2')"
   ]
  },
  {
   "cell_type": "code",
   "execution_count": 16,
   "id": "4e08efb1",
   "metadata": {},
   "outputs": [
    {
     "name": "stdout",
     "output_type": "stream",
     "text": [
      "                                                 url  \\\n",
      "0  https://www.fragrantica.com/perfume/xerjoff/ac...   \n",
      "1  https://www.fragrantica.com/perfume/jean-paul-...   \n",
      "2  https://www.fragrantica.com/perfume/jean-paul-...   \n",
      "3  https://www.fragrantica.com/perfume/bruno-bana...   \n",
      "4  https://www.fragrantica.com/perfume/jean-paul-...   \n",
      "\n",
      "                                         Description  \n",
      "0  The accento-overdose-pride-edition is designed...  \n",
      "1  The classique-pride-2024 is designed for women...  \n",
      "2  The classique-pride-2023 is designed for unise...  \n",
      "3  The pride-edition-man is designed for men. Bra...  \n",
      "4  The le-male-pride-collector is designed for me...  \n"
     ]
    }
   ],
   "source": [
    "df = pd.read_csv(\"data/fra_final.csv\", delimiter=\";\")\n",
    "print(df.head())\n",
    "\n",
    "url_embeddings = model_faster.encode(df[\"url\"].tolist(), convert_to_numpy=True)\n",
    "desc_embeddings = model_faster.encode(df[\"Description\"].tolist(), convert_to_numpy=True)\n",
    "\n",
    "df[\"url_embedding\"] = url_embeddings.tolist()\n",
    "df[\"desc_embedding\"] = desc_embeddings.tolist()"
   ]
  },
  {
   "cell_type": "code",
   "execution_count": 17,
   "id": "481afd6f",
   "metadata": {},
   "outputs": [
    {
     "data": {
      "text/html": [
       "<div>\n",
       "<style scoped>\n",
       "    .dataframe tbody tr th:only-of-type {\n",
       "        vertical-align: middle;\n",
       "    }\n",
       "\n",
       "    .dataframe tbody tr th {\n",
       "        vertical-align: top;\n",
       "    }\n",
       "\n",
       "    .dataframe thead th {\n",
       "        text-align: right;\n",
       "    }\n",
       "</style>\n",
       "<table border=\"1\" class=\"dataframe\">\n",
       "  <thead>\n",
       "    <tr style=\"text-align: right;\">\n",
       "      <th></th>\n",
       "      <th>url</th>\n",
       "      <th>Description</th>\n",
       "      <th>url_embedding</th>\n",
       "      <th>desc_embedding</th>\n",
       "    </tr>\n",
       "  </thead>\n",
       "  <tbody>\n",
       "    <tr>\n",
       "      <th>0</th>\n",
       "      <td>https://www.fragrantica.com/perfume/xerjoff/ac...</td>\n",
       "      <td>The accento-overdose-pride-edition is designed...</td>\n",
       "      <td>[-0.04432978853583336, -0.009280821308493614, ...</td>\n",
       "      <td>[-0.03480173647403717, -0.05220318213105202, 0...</td>\n",
       "    </tr>\n",
       "    <tr>\n",
       "      <th>1</th>\n",
       "      <td>https://www.fragrantica.com/perfume/jean-paul-...</td>\n",
       "      <td>The classique-pride-2024 is designed for women...</td>\n",
       "      <td>[-0.07233963906764984, 0.03223197162151337, 0....</td>\n",
       "      <td>[-0.03264123573899269, -0.013616514392197132, ...</td>\n",
       "    </tr>\n",
       "    <tr>\n",
       "      <th>2</th>\n",
       "      <td>https://www.fragrantica.com/perfume/jean-paul-...</td>\n",
       "      <td>The classique-pride-2023 is designed for unise...</td>\n",
       "      <td>[-0.0795866847038269, 0.031219353899359703, 0....</td>\n",
       "      <td>[-0.06086832657456398, -0.002978735603392124, ...</td>\n",
       "    </tr>\n",
       "    <tr>\n",
       "      <th>3</th>\n",
       "      <td>https://www.fragrantica.com/perfume/bruno-bana...</td>\n",
       "      <td>The pride-edition-man is designed for men. Bra...</td>\n",
       "      <td>[-0.040581244975328445, 0.023872777819633484, ...</td>\n",
       "      <td>[-0.013094124384224415, 0.00038594662328250706...</td>\n",
       "    </tr>\n",
       "    <tr>\n",
       "      <th>4</th>\n",
       "      <td>https://www.fragrantica.com/perfume/jean-paul-...</td>\n",
       "      <td>The le-male-pride-collector is designed for me...</td>\n",
       "      <td>[-0.0933590978384018, 0.0480557456612587, 0.00...</td>\n",
       "      <td>[-0.05961915850639343, -0.02085299603641033, -...</td>\n",
       "    </tr>\n",
       "  </tbody>\n",
       "</table>\n",
       "</div>"
      ],
      "text/plain": [
       "                                                 url  \\\n",
       "0  https://www.fragrantica.com/perfume/xerjoff/ac...   \n",
       "1  https://www.fragrantica.com/perfume/jean-paul-...   \n",
       "2  https://www.fragrantica.com/perfume/jean-paul-...   \n",
       "3  https://www.fragrantica.com/perfume/bruno-bana...   \n",
       "4  https://www.fragrantica.com/perfume/jean-paul-...   \n",
       "\n",
       "                                         Description  \\\n",
       "0  The accento-overdose-pride-edition is designed...   \n",
       "1  The classique-pride-2024 is designed for women...   \n",
       "2  The classique-pride-2023 is designed for unise...   \n",
       "3  The pride-edition-man is designed for men. Bra...   \n",
       "4  The le-male-pride-collector is designed for me...   \n",
       "\n",
       "                                       url_embedding  \\\n",
       "0  [-0.04432978853583336, -0.009280821308493614, ...   \n",
       "1  [-0.07233963906764984, 0.03223197162151337, 0....   \n",
       "2  [-0.0795866847038269, 0.031219353899359703, 0....   \n",
       "3  [-0.040581244975328445, 0.023872777819633484, ...   \n",
       "4  [-0.0933590978384018, 0.0480557456612587, 0.00...   \n",
       "\n",
       "                                      desc_embedding  \n",
       "0  [-0.03480173647403717, -0.05220318213105202, 0...  \n",
       "1  [-0.03264123573899269, -0.013616514392197132, ...  \n",
       "2  [-0.06086832657456398, -0.002978735603392124, ...  \n",
       "3  [-0.013094124384224415, 0.00038594662328250706...  \n",
       "4  [-0.05961915850639343, -0.02085299603641033, -...  "
      ]
     },
     "execution_count": 17,
     "metadata": {},
     "output_type": "execute_result"
    }
   ],
   "source": [
    "df.head()"
   ]
  },
  {
   "cell_type": "markdown",
   "id": "cfd74c5f",
   "metadata": {},
   "source": [
    "### Збереження векторів у векторну базу даних weaviate\n",
    "- Підключення до Weaviate Cloud\n",
    "- Створення колекції (Perfume) (+ перевірка чи існує і очищення, щоб не було збою при повторному завантаженні)\n",
    "- Додавання даних у колекцію: Для кожного рядка додаємо властивості (url, description) і готовий вектор (desc_embedding)"
   ]
  },
  {
   "cell_type": "code",
   "execution_count": 18,
   "id": "1ad12374",
   "metadata": {},
   "outputs": [
    {
     "name": "stderr",
     "output_type": "stream",
     "text": [
      "huggingface/tokenizers: The current process just got forked, after parallelism has already been used. Disabling parallelism to avoid deadlocks...\n",
      "To disable this warning, you can either:\n",
      "\t- Avoid using `tokenizers` before the fork if possible\n",
      "\t- Explicitly set the environment variable TOKENIZERS_PARALLELISM=(true | false)\n"
     ]
    },
    {
     "name": "stdout",
     "output_type": "stream",
     "text": [
      "Requirement already satisfied: weaviate-client in /Library/Frameworks/Python.framework/Versions/3.11/lib/python3.11/site-packages (4.17.0)\n",
      "Requirement already satisfied: httpx<0.29.0,>=0.26.0 in /Library/Frameworks/Python.framework/Versions/3.11/lib/python3.11/site-packages (from weaviate-client) (0.27.0)\n",
      "Requirement already satisfied: validators<1.0.0,>=0.34.0 in /Library/Frameworks/Python.framework/Versions/3.11/lib/python3.11/site-packages (from weaviate-client) (0.35.0)\n",
      "Requirement already satisfied: authlib<2.0.0,>=1.2.1 in /Library/Frameworks/Python.framework/Versions/3.11/lib/python3.11/site-packages (from weaviate-client) (1.6.5)\n",
      "Requirement already satisfied: pydantic<3.0.0,>=2.8.0 in /Library/Frameworks/Python.framework/Versions/3.11/lib/python3.11/site-packages (from weaviate-client) (2.12.2)\n",
      "Requirement already satisfied: grpcio<1.80.0,>=1.59.5 in /Library/Frameworks/Python.framework/Versions/3.11/lib/python3.11/site-packages (from weaviate-client) (1.75.1)\n",
      "Requirement already satisfied: protobuf<7.0.0,>=4.21.6 in /Library/Frameworks/Python.framework/Versions/3.11/lib/python3.11/site-packages (from weaviate-client) (5.27.2)\n",
      "Requirement already satisfied: deprecation<3.0.0,>=2.1.0 in /Library/Frameworks/Python.framework/Versions/3.11/lib/python3.11/site-packages (from weaviate-client) (2.1.0)\n",
      "Requirement already satisfied: cryptography in /Library/Frameworks/Python.framework/Versions/3.11/lib/python3.11/site-packages (from authlib<2.0.0,>=1.2.1->weaviate-client) (46.0.3)\n",
      "Requirement already satisfied: packaging in /Users/veronikabagatyr-zaharcenko/Library/Python/3.11/lib/python/site-packages (from deprecation<3.0.0,>=2.1.0->weaviate-client) (23.2)\n",
      "Requirement already satisfied: typing-extensions~=4.12 in /Library/Frameworks/Python.framework/Versions/3.11/lib/python3.11/site-packages (from grpcio<1.80.0,>=1.59.5->weaviate-client) (4.15.0)\n",
      "Requirement already satisfied: anyio in /Library/Frameworks/Python.framework/Versions/3.11/lib/python3.11/site-packages (from httpx<0.29.0,>=0.26.0->weaviate-client) (4.4.0)\n",
      "Requirement already satisfied: certifi in /Library/Frameworks/Python.framework/Versions/3.11/lib/python3.11/site-packages (from httpx<0.29.0,>=0.26.0->weaviate-client) (2023.7.22)\n",
      "Requirement already satisfied: httpcore==1.* in /Library/Frameworks/Python.framework/Versions/3.11/lib/python3.11/site-packages (from httpx<0.29.0,>=0.26.0->weaviate-client) (1.0.5)\n",
      "Requirement already satisfied: idna in /Library/Frameworks/Python.framework/Versions/3.11/lib/python3.11/site-packages (from httpx<0.29.0,>=0.26.0->weaviate-client) (3.7)\n",
      "Requirement already satisfied: sniffio in /Library/Frameworks/Python.framework/Versions/3.11/lib/python3.11/site-packages (from httpx<0.29.0,>=0.26.0->weaviate-client) (1.3.1)\n",
      "Requirement already satisfied: h11<0.15,>=0.13 in /Library/Frameworks/Python.framework/Versions/3.11/lib/python3.11/site-packages (from httpcore==1.*->httpx<0.29.0,>=0.26.0->weaviate-client) (0.14.0)\n",
      "Requirement already satisfied: annotated-types>=0.6.0 in /Library/Frameworks/Python.framework/Versions/3.11/lib/python3.11/site-packages (from pydantic<3.0.0,>=2.8.0->weaviate-client) (0.6.0)\n",
      "Requirement already satisfied: pydantic-core==2.41.4 in /Library/Frameworks/Python.framework/Versions/3.11/lib/python3.11/site-packages (from pydantic<3.0.0,>=2.8.0->weaviate-client) (2.41.4)\n",
      "Requirement already satisfied: typing-inspection>=0.4.2 in /Library/Frameworks/Python.framework/Versions/3.11/lib/python3.11/site-packages (from pydantic<3.0.0,>=2.8.0->weaviate-client) (0.4.2)\n",
      "Requirement already satisfied: cffi>=2.0.0 in /Library/Frameworks/Python.framework/Versions/3.11/lib/python3.11/site-packages (from cryptography->authlib<2.0.0,>=1.2.1->weaviate-client) (2.0.0)\n",
      "Requirement already satisfied: pycparser in /Library/Frameworks/Python.framework/Versions/3.11/lib/python3.11/site-packages (from cffi>=2.0.0->cryptography->authlib<2.0.0,>=1.2.1->weaviate-client) (2.22)\n",
      "\n",
      "\u001b[1m[\u001b[0m\u001b[34;49mnotice\u001b[0m\u001b[1;39;49m]\u001b[0m\u001b[39;49m A new release of pip is available: \u001b[0m\u001b[31;49m24.1.2\u001b[0m\u001b[39;49m -> \u001b[0m\u001b[32;49m25.2\u001b[0m\n",
      "\u001b[1m[\u001b[0m\u001b[34;49mnotice\u001b[0m\u001b[1;39;49m]\u001b[0m\u001b[39;49m To update, run: \u001b[0m\u001b[32;49mpip install --upgrade pip\u001b[0m\n",
      "Note: you may need to restart the kernel to use updated packages.\n"
     ]
    }
   ],
   "source": [
    "pip install weaviate-client"
   ]
  },
  {
   "cell_type": "code",
   "execution_count": null,
   "id": "e3460bd8",
   "metadata": {},
   "outputs": [
    {
     "name": "stdout",
     "output_type": "stream",
     "text": [
      "True\n"
     ]
    }
   ],
   "source": [
    "import os\n",
    "import weaviate\n",
    "from weaviate.classes.init import Auth\n",
    "\n",
    "os.environ[\"WEAVIATE_URL\"] = WEAVIATE_URL\n",
    "os.environ[\"WEAVIATE_API_KEY\"] = WEAVIATE_API_KEY\n",
    "\n",
    "weaviate_url = os.environ[\"WEAVIATE_URL\"]\n",
    "weaviate_api_key = os.environ[\"WEAVIATE_API_KEY\"]\n",
    "\n",
    "client = weaviate.connect_to_weaviate_cloud(\n",
    "    cluster_url=weaviate_url,\n",
    "    auth_credentials=Auth.api_key(weaviate_api_key),\n",
    "    timeout_config=(10, 60),\n",
    ")\n",
    "print(client.is_ready())"
   ]
  },
  {
   "cell_type": "code",
   "execution_count": 22,
   "id": "b0b4d5d9",
   "metadata": {},
   "outputs": [
    {
     "name": "stdout",
     "output_type": "stream",
     "text": [
      "Колекція Perfume створена!\n"
     ]
    }
   ],
   "source": [
    "from weaviate.classes.config import Property, DataType, Configure\n",
    "\n",
    "if client.collections.exists(\"Perfume\"):\n",
    "    client.collections.delete(\"Perfume\")\n",
    "\n",
    "client.collections.create(\n",
    "    name=\"Perfume\",\n",
    "    description=\"Perfume DB with one desc vector\",\n",
    "    properties=[\n",
    "        Property(name=\"url\", data_type=DataType.TEXT),\n",
    "        Property(name=\"description\", data_type=DataType.TEXT),\n",
    "    ],\n",
    "    vector_config={\n",
    "        \"name\": \"desc_embedding\",\n",
    "        \"vectorizer\": Configure.Vectorizer.none(),\n",
    "        \"vectorIndexConfig\": Configure.VectorIndex.hnsw()._to_dict()\n",
    "    }\n",
    ")\n",
    "\n",
    "print(\"Колекція Perfume створена!\")\n"
   ]
  },
  {
   "cell_type": "code",
   "execution_count": 23,
   "id": "5efa59d3",
   "metadata": {},
   "outputs": [],
   "source": [
    "collection = client.collections.get(\"Perfume\")"
   ]
  },
  {
   "cell_type": "code",
   "execution_count": 24,
   "id": "bf04c650",
   "metadata": {},
   "outputs": [
    {
     "name": "stdout",
     "output_type": "stream",
     "text": [
      "Дані додані в колекцію\n"
     ]
    }
   ],
   "source": [
    "with collection.batch.fixed_size(100) as batch:\n",
    "    for _, row in df.iterrows():\n",
    "        batch.add_object(\n",
    "            properties={\n",
    "                \"url\": row[\"url\"],\n",
    "                \"description\": row[\"Description\"],\n",
    "            },\n",
    "            vector={  \n",
    "                \"desc_embedding\": row[\"desc_embedding\"]\n",
    "            }\n",
    "        )\n",
    "\n",
    "print(\"Дані додані в колекцію\")"
   ]
  },
  {
   "cell_type": "code",
   "execution_count": 25,
   "id": "bdba9588",
   "metadata": {},
   "outputs": [
    {
     "name": "stdout",
     "output_type": "stream",
     "text": [
      "Кількість об'єктів: 24104\n"
     ]
    }
   ],
   "source": [
    "print(\"Кількість об'єктів:\", collection.aggregate.over_all(total_count=True).total_count)"
   ]
  },
  {
   "cell_type": "markdown",
   "id": "70f01bb0",
   "metadata": {},
   "source": [
    "### Обробка запиту користувача та формування відповіді"
   ]
  },
  {
   "cell_type": "markdown",
   "id": "56ca4408",
   "metadata": {},
   "source": [
    "- Визначення запиту користувача\n",
    "- Перетворення тексту на вектор (embedding з тією ж моделлю)\n",
    "- Пошук найближчих топ-5 векторів у колекції до \"вектора користувача\": Weaviate шукає топ-5 найбільш схожих векторів у колекції за алгоритмом approximate nearest neighbor (ANN). За замовчуванням метрика схожості cosine similarity. Список вже ранжований від найбільш до менш схожого, тобто перший елемент — найбільш релевантний.\n",
    "- Фільтр відповідей, якщо мінімальна схожість (certainty) менша 0.5 по cosine similarity, то цей парфум у відповідь не виводиться\n",
    "- Виведення знайдених результатів, URL та Description"
   ]
  },
  {
   "cell_type": "code",
   "execution_count": 26,
   "id": "01a5a1ed",
   "metadata": {},
   "outputs": [
    {
     "name": "stdout",
     "output_type": "stream",
     "text": [
      "URL: https://www.fragrantica.com/perfume/dame-perfumery/peach-blossom-violet-vanilla-27032.html\n",
      "Description: The peach-blossom-violet-vanilla is designed for women. Brand dame-perfumery, USA, created in 2014. Top notes are peach blossom, hyacinth, red berries, bergamot. Middle notes are parma violet, jasmine, rose. Base notes are musk, tahitian vanilla, driftwood. Main accords include floral, powdery, violet, fruity, fresh spicy, fresh, musky, green, vanilla.\n",
      "Cosine similarity: 0.699\n",
      "------------------------------------------------------------\n",
      "URL: https://www.fragrantica.com/perfume/the-body-shop/vanilla-perfume-oil-3630.html\n",
      "Description: The vanilla-perfume-oil is designed for women. Brand the-body-shop, UK. Top notes are peach, lemon, apricot, plum. Middle notes are jasmine, ylang-ylang, tuberose, lily-of-the-valley, rose, orange blossom. Base notes are vanilla, amber, sandalwood, musk. Main accords include vanilla, powdery, sweet, white floral, fruity, woody, amber.\n",
      "Cosine similarity: 0.695\n",
      "------------------------------------------------------------\n",
      "URL: https://www.fragrantica.com/perfume/the-body-shop/the-spirit-of-moonflower-perfume-oil-3629.html\n",
      "Description: The the-spirit-of-moonflower-perfume-oil is designed for women. Brand the-body-shop, UK. Top notes are melon, gardenia, coriander. Middle notes are lime (linden) blossom, cyclamen, lily-of-the-valley. Base notes are rose, jasmine. Main accords include white floral, fresh, floral, rose, yellow floral, aquatic, sweet, ozonic, green, fruity.\n",
      "Cosine similarity: 0.672\n",
      "------------------------------------------------------------\n",
      "URL: https://www.fragrantica.com/perfume/providence-perfume-co/divine-11579.html\n",
      "Description: The divine is designed for women. Brand providence-perfume-co, USA, created in 2009. Top notes are bitter orange, coriander, bergamot. Middle notes are neroli, african orange flower, jasmine, rose. Base notes are amber, ambrette (musk mallow), vanille, angelica, musk. Main accords include citrus, white floral, amber, musky, aromatic, floral, powdery, fresh, vanilla, fresh spicy.\n",
      "Cosine similarity: 0.664\n",
      "------------------------------------------------------------\n",
      "URL: https://www.fragrantica.com/perfume/floral-street/wild-vanilla-orchid-47212.html\n",
      "Description: The wild-vanilla-orchid is designed for unisex. Brand floral-street, UK, created in 2017. Top notes are vanilla flower, cassis, citruses. Middle notes are bamboo, flowers, jasmine. Base notes are vanilla bean, sandalwood, orchid, patchouli. Main accords include woody, vanilla, floral, powdery, aromatic, soft spicy, fruity, green, earthy, fresh.\n",
      "Cosine similarity: 0.656\n",
      "------------------------------------------------------------\n"
     ]
    }
   ],
   "source": [
    "query = \"vanilla floral perfume\"\n",
    "q_vec = model_faster.encode([query])[0].tolist()\n",
    "\n",
    "top_n = 5\n",
    "threshold = 0.5\n",
    "\n",
    "result = collection.query.near_vector(\n",
    "    near_vector=q_vec,\n",
    "    target_vector=\"desc_embedding\",\n",
    "    limit=top_n,\n",
    "    return_properties=[\"url\", \"description\"],\n",
    "    return_metadata=[\"distance\"]\n",
    ")\n",
    "\n",
    "filtered_results = []\n",
    "for obj in result.objects:\n",
    "    distance = obj.metadata.distance\n",
    "    if distance is not None:\n",
    "        similarity = 1 - distance\n",
    "        if similarity >= threshold:\n",
    "            filtered_results.append((obj, similarity))\n",
    "\n",
    "for obj, sim in filtered_results:\n",
    "    print(f\"URL: {obj.properties['url']}\")\n",
    "    print(f\"Description: {obj.properties['description']}\")\n",
    "    print(f\"Cosine similarity: {sim:.3f}\")\n",
    "    print(\"-\" * 60)\n"
   ]
  },
  {
   "cell_type": "markdown",
   "id": "05681f85",
   "metadata": {},
   "source": [
    "Зберігання API ключа"
   ]
  },
  {
   "cell_type": "code",
   "execution_count": 27,
   "id": "dcd3d71b",
   "metadata": {},
   "outputs": [],
   "source": [
    "os.environ[\"OPENROUTER_KEY\"] = OPENROUTER_KEY\n",
    "OPENROUTER_KEY = os.environ[\"OPENROUTER_KEY\"]"
   ]
  },
  {
   "cell_type": "markdown",
   "id": "0f1d0469",
   "metadata": {},
   "source": [
    "- Готуємо запит до API (модель claude-3.5-sonnet)\n",
    "- Відправляємо запит і отримуємо відповідь\n",
    "- Виводимо відповідь"
   ]
  },
  {
   "cell_type": "code",
   "execution_count": 28,
   "id": "8dc875ca",
   "metadata": {},
   "outputs": [
    {
     "name": "stdout",
     "output_type": "stream",
     "text": [
      "Привіт! Я - Claude, AI-асистент, створений компанією Anthropic. Я намагаюсь бути корисним і давати правдиві відповіді.\n"
     ]
    }
   ],
   "source": [
    "import requests\n",
    "\n",
    "headers = {\n",
    "    \"Authorization\": f\"Bearer {OPENROUTER_KEY}\",\n",
    "    \"Content-Type\": \"application/json\",\n",
    "}\n",
    "\n",
    "data = {\n",
    "    \"model\": \"anthropic/claude-3.5-sonnet\",\n",
    "    \"messages\": [\n",
    "        {\"role\": \"user\", \"content\": \"Привіт, хто ти?\"}\n",
    "    ]\n",
    "}\n",
    "\n",
    "response = requests.post(\"https://openrouter.ai/api/v1/chat/completions\", headers=headers, json=data)\n",
    "print(response.json()[\"choices\"][0][\"message\"][\"content\"])"
   ]
  },
  {
   "cell_type": "markdown",
   "id": "6b441a82",
   "metadata": {},
   "source": [
    "### Пошуку та уточнення запиту\n",
    "- Перевірка запиту на зміст\n",
    "- Основна функція пошуку"
   ]
  },
  {
   "cell_type": "markdown",
   "id": "0f5eb68c",
   "metadata": {},
   "source": [
    "- Обробляє текст користувача (query), який треба перевірити на наявність опису ароматичних нот.\n",
    "- Формує запит до моделі anthropic/claude-3.5-sonnet через OpenRouter\n",
    "- Відправляємо запит на сервер і чекаємо відповідь (не більше 15 секунд)\n",
    "- Отримує відповідь від моделі у JSON-форматі.\n",
    "- Повертає тільки текст відповіді — 'ok', якщо опис є, або уточнення українською, якщо інформації бракує. Якщо щось пішло не так (помилка мережі або API), то повертає повідомлення про помилку."
   ]
  },
  {
   "cell_type": "code",
   "execution_count": 29,
   "id": "4f487296",
   "metadata": {},
   "outputs": [],
   "source": [
    "import requests\n",
    "\n",
    "def check_user_query(query: str) -> str:\n",
    "\n",
    "    headers = {\n",
    "        \"Authorization\": f\"Bearer {OPENROUTER_KEY}\",\n",
    "        \"Content-Type\": \"application/json\",\n",
    "    }\n",
    "\n",
    "    data = {\n",
    "        \"model\": \"anthropic/claude-3.5-sonnet\",\n",
    "        \"max_tokens\": 200,\n",
    "        \"messages\": [\n",
    "            {\n",
    "                \"role\": \"system\",\n",
    "                \"content\": (\n",
    "                    \"Ти асистент, який перевіряє, чи містить текст опис ароматичних нот парфуму \" \n",
    "                    \"(наприклад: ваніль, цитрус, мускус, деревний, квітковий, фруктовий тощо). \" \n",
    "                    \"Якщо текст містить хоча б одну таку ноту — відповідай ТІЛЬКИ словом 'ok'. \" \n",
    "                    \"Якщо опис не містить ароматичних нот або інформації недостатньо — \" \n",
    "                    \"задай коротке уточнення українською, не більше 15 слів. \" \n",
    "                    \"Не пояснюй, не аналізуй, не повторюй вхідний текст.\"\n",
    "                )\n",
    "            },\n",
    "            {\"role\": \"user\", \"content\": query},\n",
    "        ],\n",
    "    }\n",
    "\n",
    "    try:\n",
    "        response = requests.post(\n",
    "            \"https://openrouter.ai/api/v1/chat/completions\",\n",
    "            headers=headers,\n",
    "            json=data,\n",
    "            timeout=15\n",
    "        )\n",
    "        response.raise_for_status()\n",
    "        result = response.json()\n",
    "        return result[\"choices\"][0][\"message\"][\"content\"].strip()\n",
    "\n",
    "    except (requests.exceptions.RequestException, KeyError) as e:\n",
    "        print(f\"Помилка під час запиту: {e}\")\n",
    "        return \"Не вдалося обробити запит, спробуйте ще раз.\"\n"
   ]
  },
  {
   "cell_type": "code",
   "execution_count": 30,
   "id": "8282ee8e",
   "metadata": {},
   "outputs": [
    {
     "name": "stdout",
     "output_type": "stream",
     "text": [
      "Claude: Які саме аромати ви маєте на увазі?\n"
     ]
    }
   ],
   "source": [
    "test_query = \"Мені хочеться щось солодке\"   \n",
    "result = check_user_query(test_query)\n",
    "print(\"Claude:\", result)"
   ]
  },
  {
   "cell_type": "code",
   "execution_count": 31,
   "id": "9cda505f",
   "metadata": {},
   "outputs": [
    {
     "name": "stdout",
     "output_type": "stream",
     "text": [
      "Claude: Опишіть які аромати вам подобаються - солодкі, свіжі, пряні?\n"
     ]
    }
   ],
   "source": [
    "test_query = \"Мені хочеться щось\"   \n",
    "result = check_user_query(test_query)\n",
    "print(\"Claude:\", result)"
   ]
  },
  {
   "cell_type": "markdown",
   "id": "36386ea6",
   "metadata": {},
   "source": [
    "перетворює текст користувача на вектор"
   ]
  },
  {
   "cell_type": "code",
   "execution_count": 32,
   "id": "ad4bafa9",
   "metadata": {},
   "outputs": [],
   "source": [
    "def encode_user_query(full_query: str, model):\n",
    "    vector = model.encode([full_query])[0].tolist()\n",
    "    return vector"
   ]
  },
  {
   "cell_type": "markdown",
   "id": "66b0d210",
   "metadata": {},
   "source": [
    "- Шукаємо у колекції Weaviate найбільш схожі вектори за полем desc_embedding до \"вектору користувача\"\n",
    "- Обмежуємо кількість результатів топ‑k (за замовчуванням 5)\n",
    "- Повертаємо список об’єктів з властивостями url і description"
   ]
  },
  {
   "cell_type": "code",
   "execution_count": 33,
   "id": "63c483a2",
   "metadata": {},
   "outputs": [],
   "source": [
    "def search_in_weaviate(vector, collection, k=5):\n",
    "    result = collection.query.near_vector(\n",
    "        near_vector=vector,\n",
    "        target_vector=\"desc_embedding\",\n",
    "        limit=k,\n",
    "        return_properties=[\"url\", \"description\"]\n",
    "    )\n",
    "    return result.objects"
   ]
  },
  {
   "cell_type": "markdown",
   "id": "ee5d95ea",
   "metadata": {},
   "source": [
    "- Приймає знайдені результати з Weaviate і їхні описи\n",
    "- Перетворює кожен опис у вектор за допомогою моделі\n",
    "- Обчислює cosine similarity між вектором користувача і кожним описом\n",
    "- Сортує результати за схожістю від найвищої до найнижчої.\n",
    "- Повертає список об’єктів, від найрелевантнішого до найменш релевантного"
   ]
  },
  {
   "cell_type": "code",
   "execution_count": 34,
   "id": "4a1afdfe",
   "metadata": {},
   "outputs": [],
   "source": [
    "from sklearn.metrics.pairwise import cosine_similarity\n",
    "\n",
    "def rerank_results(vector, results, model):\n",
    "    sims = []\n",
    "    for obj in results:\n",
    "        desc = obj.properties[\"description\"]\n",
    "        vec = model.encode([desc])[0].reshape(1, -1)\n",
    "        sim = cosine_similarity([vector], vec)[0][0]\n",
    "        sims.append((sim, obj))\n",
    "\n",
    "    sims.sort(key=lambda x: x[0], reverse=True)\n",
    "    return [o for _, o in sims]\n"
   ]
  },
  {
   "cell_type": "markdown",
   "id": "8f52a634",
   "metadata": {},
   "source": [
    "### Генерація відповіді"
   ]
  },
  {
   "cell_type": "markdown",
   "id": "bcd579d5",
   "metadata": {},
   "source": [
    "- Перевіряє, чи є результати для запиту\n",
    "- Формує контекст із топ-K знайдених ароматів (URL + опис)\n",
    "- Створює чітку RAG-підказку для моделі\n",
    "- Відправляє запит до OpenRouter / Claude\n",
    "- Отримує і повертає відповідь користувачу\n",
    "- Обробляє помилки, якщо запит не вдався"
   ]
  },
  {
   "cell_type": "code",
   "execution_count": 35,
   "id": "c80868d0",
   "metadata": {},
   "outputs": [],
   "source": [
    "def generate_response(query: str, results, model_name=\"anthropic/claude-3.5-sonnet\", top_k=5):\n",
    "\n",
    "    if not results:\n",
    "        return \"😕 Нічого не знайдено. Спробуй описати аромат інакше.\"\n",
    "\n",
    "    context_docs = []\n",
    "    for obj in results[:top_k]:\n",
    "        url = obj.properties.get(\"url\", \"\")\n",
    "        desc = obj.properties.get(\"description\", \"\")\n",
    "        context_docs.append(f\"{url}\\n{desc}\")\n",
    "\n",
    "    context = \"\\n\\n\".join(context_docs)\n",
    "\n",
    "    rag_prompt = f\"\"\"\n",
    "Ти — корисний асистент, який допомагає підібрати аромат парфумів. \n",
    "Використовуй наведений контекст, щоб відповісти на запит користувача. \n",
    "Обов'язково дотримуйся правил:\n",
    "\n",
    "1. Відповідай українською.\n",
    "2. Коротко поясни, які варіанти підійшли та чому.\n",
    "3. Для кожного аромату вкажи пряме посилання на аромат на сайті https://www.fragrantica.com (якщо URL є).\n",
    "4. Не вигадуй аромати і не додавай неперевірену інформацію.\n",
    "5. Не повторюй текст запиту і не пояснюй процес.\n",
    "\n",
    "Контекст (URL + опис):\n",
    "{context}\n",
    "\n",
    "Запит користувача:\n",
    "{query}\n",
    "\"\"\"\n",
    "\n",
    "    headers = {\n",
    "        \"Authorization\": f\"Bearer {OPENROUTER_KEY}\",\n",
    "        \"Content-Type\": \"application/json\",\n",
    "    }\n",
    "\n",
    "    data = {\n",
    "        \"model\": model_name,\n",
    "        \"messages\": [\n",
    "            {\"role\": \"system\", \"content\": \"Ти корисний ароматний асистент.\"},\n",
    "            {\"role\": \"user\", \"content\": rag_prompt},\n",
    "        ],\n",
    "        \"temperature\": 0.4,\n",
    "        \"max_tokens\": 300\n",
    "    }\n",
    "\n",
    "    try:\n",
    "        r = requests.post(\n",
    "            \"https://openrouter.ai/api/v1/chat/completions\",\n",
    "            headers=headers,\n",
    "            json=data,\n",
    "            timeout=15\n",
    "        )\n",
    "        r.raise_for_status()\n",
    "        result = r.json()\n",
    "        llm_answer = result[\"choices\"][0][\"message\"][\"content\"].strip()\n",
    "        return f\"Відповідь:\\n{llm_answer}\"\n",
    "\n",
    "    except (requests.exceptions.RequestException, KeyError) as e:\n",
    "        print(f\"Помилка під час запиту до LLM: {e}\")\n",
    "        return \"Не вдалося обробити запит, спробуйте ще раз.\""
   ]
  },
  {
   "cell_type": "code",
   "execution_count": 36,
   "id": "5dfcc41a",
   "metadata": {},
   "outputs": [
    {
     "name": "stdout",
     "output_type": "stream",
     "text": [
      "Відповідь:\n",
      "Ось два аромати, що найкраще поєднують ваніль та полуницю:\n",
      "\n",
      "1. Candie's Strawberry Creme\n",
      "https://www.fragrantica.com/perfume/candie-s/strawberry-creme-16635.html\n",
      "Солодкий десертний аромат з яскравою полуницею у верхніх нотах та теплою ваніллю і збитими вершками в базі.\n",
      "\n",
      "2. The Body Shop Blissful Strawberry\n",
      "https://www.fragrantica.com/perfume/the-body-shop/blissful-strawberry-74742.html\n",
      "Більш легкий та свіжий варіант, де солодка полуниця доповнюється квітковими нотами півонії та м'яким мускусним шлейфом.\n"
     ]
    }
   ],
   "source": [
    "def handle_user_message(message: str, model, collection):\n",
    "\n",
    "    clarifying = check_user_query(message)\n",
    "    if clarifying.lower() != \"ok\":\n",
    "        return clarifying\n",
    "\n",
    "    user_vec = encode_user_query(message, model)\n",
    "    raw_results = search_in_weaviate(user_vec, collection, k=5)\n",
    "    ranked = rerank_results(user_vec, raw_results, model)\n",
    "    answer = generate_response(message, ranked)\n",
    "    return answer\n",
    "\n",
    "print(handle_user_message(\"Generate something with vanilla and strawberry for me\", model_faster, collection))"
   ]
  },
  {
   "cell_type": "markdown",
   "id": "d8872388",
   "metadata": {},
   "source": [
    "### Telegram"
   ]
  },
  {
   "cell_type": "code",
   "execution_count": 39,
   "id": "e03f7600",
   "metadata": {},
   "outputs": [
    {
     "name": "stdout",
     "output_type": "stream",
     "text": [
      "✅ Бот запущений і працює!\n",
      "\n",
      "Хочу щось свіже\n",
      "Хочу щось свіже\n",
      "Хочу щось свіже, Хочу аромат з лимоном, жасмином та зеленим чаєм\n",
      "\n",
      "Хочу відчувати ноти шкіри та дерева\n",
      "Хочу відчувати ноти шкіри та дерева, Хочу відчувати ноти шкіри та дерева\n",
      "\n",
      "I would like something with top vanilla notes and milk chocolate\n",
      "I would like something with top vanilla notes and milk chocolate, I would like something with top vanilla notes and milk chocolate\n",
      "\n",
      "I would like something with pepper and citrus\n",
      "I would like something with pepper and citrus, I would like something with pepper and citrus\n",
      "\n",
      "Хочу підібрати подрузі аромат із запахом молочної каші\n",
      "Хочу підібрати подрузі аромат із запахом молочної каші\n"
     ]
    },
    {
     "name": "stderr",
     "output_type": "stream",
     "text": [
      "Received SIGINT signal\n"
     ]
    }
   ],
   "source": [
    "import asyncio\n",
    "from aiogram import Bot, Dispatcher, Router, types\n",
    "from aiogram.filters import Command\n",
    "from aiogram.fsm.context import FSMContext\n",
    "from aiogram.fsm.state import State, StatesGroup\n",
    "from aiogram.fsm.storage.memory import MemoryStorage\n",
    "from aiogram.types import InlineKeyboardButton, InlineKeyboardMarkup\n",
    "\n",
    "TOKEN = TOKEN\n",
    "\n",
    "def main_menu_kb():\n",
    "    return InlineKeyboardMarkup(\n",
    "        inline_keyboard=[\n",
    "            [\n",
    "                InlineKeyboardButton(\n",
    "                    text=\"✨ Підбір аромату за описом\",\n",
    "                    callback_data=\"search_by_description\",\n",
    "                )\n",
    "            ],\n",
    "            [\n",
    "                InlineKeyboardButton(\n",
    "                    text=\"🌷 Пошук за назвою парфуму\",\n",
    "                    callback_data=\"search_by_name\",\n",
    "                )\n",
    "            ],\n",
    "            [\n",
    "                InlineKeyboardButton(\n",
    "                    text=\"🌟 Пошук за назвою + побажання\",\n",
    "                    callback_data=\"search_by_name_with_notes\",\n",
    "                )\n",
    "            ],\n",
    "            [InlineKeyboardButton(text=\"Про бота\", callback_data=\"about\")],\n",
    "        ]\n",
    "    )\n",
    "\n",
    "class Form(StatesGroup):\n",
    "    waiting_for_description = State()\n",
    "    waiting_for_name = State()\n",
    "    waiting_for_name_with_notes = State()\n",
    "\n",
    "router = Router()\n",
    "\n",
    "@router.message(Command(\"start\"))\n",
    "async def cmd_start(message: types.Message):\n",
    "    kb = InlineKeyboardMarkup(\n",
    "        inline_keyboard=[\n",
    "            [\n",
    "                InlineKeyboardButton(\n",
    "                    text=\"✨ Підбір аромату за описом\",\n",
    "                    callback_data=\"search_by_description\",\n",
    "                )\n",
    "            ],\n",
    "            [\n",
    "                InlineKeyboardButton(\n",
    "                    text=\"🌷 Пошук за назвою парфуму\",\n",
    "                    callback_data=\"search_by_name\",\n",
    "                )\n",
    "            ],\n",
    "            [\n",
    "                InlineKeyboardButton(\n",
    "                    text=\"🌟 Пошук за назвою + побажання\",\n",
    "                    callback_data=\"search_by_name_with_notes\",\n",
    "                )\n",
    "            ],\n",
    "            [InlineKeyboardButton(text=\"Про бота\", callback_data=\"about\")],\n",
    "        ]\n",
    "    )\n",
    "    await message.answer(\n",
    "        \"Привіт! 👋\\nЯ тестовий бот. Використай кнопки нижче або надішли /help.\",\n",
    "        reply_markup=kb,\n",
    "    )\n",
    "\n",
    "@router.message(Command(\"help\"))\n",
    "async def cmd_help(message: types.Message):\n",
    "    await message.answer(\n",
    "        \"Команди:\\n\"\n",
    "        \"/start — почати\\n\"\n",
    "        \"/help — допомога\\n\\n\"\n",
    "        \"Надішли будь-який текст — я відповім ехо.\"\n",
    "    )\n",
    "\n",
    "@router.callback_query(lambda c: c.data == \"about\")\n",
    "async def cb_about(callback: types.CallbackQuery):\n",
    "    await callback.message.answer(\n",
    "        \"ℹ️ Цей бот створено на aiogram 3.3.0.\\nВін показує приклад кнопок і FSM.\"\n",
    "    )\n",
    "    await callback.answer()\n",
    "\n",
    "\n",
    "@router.message(Form.waiting_for_name)\n",
    "async def process_name(message: types.Message, state: FSMContext):\n",
    "    name = message.text.strip()\n",
    "    if not name:\n",
    "        await message.answer(\"❗ Будь ласка, введи назву парфуму ще раз.\")\n",
    "        return\n",
    "    await message.answer(f\"🌷 Ось 10 парфумів, схожих на '{name}':\")\n",
    "    await state.clear()\n",
    "\n",
    "@router.message(Form.waiting_for_description)\n",
    "async def process_description(message: types.Message, state: FSMContext):\n",
    "    description = message.text.strip()\n",
    "    data = await state.get_data()\n",
    "    attempts = data.get(\"attempts\", 0)\n",
    "    base_prompt = data.get(\"base_prompt\", \"\")\n",
    "    print(base_prompt)\n",
    "    if attempts == 0 and not base_prompt:\n",
    "        base_prompt = description\n",
    "        print(base_prompt)\n",
    "    clarifying = check_user_query(description)\n",
    "    if clarifying.lower() != \"ok\":\n",
    "        attempts += 1\n",
    "        await state.update_data(attempts=attempts, base_prompt=base_prompt)\n",
    "\n",
    "        if attempts >= 3:\n",
    "            await message.answer(\"⚠️ Можливо, спробуй переформулювати запит пізніше.\")\n",
    "            await message.answer(\"Оберіть наступну дію:\", reply_markup=main_menu_kb())\n",
    "            await state.clear()\n",
    "            return\n",
    "\n",
    "        await message.answer(\n",
    "            \"🧐 Опиши аромат детальніше — додай нотки (ваніль, мускус, жасмин тощо).\"\n",
    "        )\n",
    "        return\n",
    "\n",
    "    full_prompt = f\"{base_prompt}, {description}\" if base_prompt else description\n",
    "    print(full_prompt)\n",
    "    recs = handle_user_message(full_prompt, model_faster, collection)\n",
    "    await message.answer(recs)\n",
    "    await message.answer(\"Оберіть наступну дію:\", reply_markup=main_menu_kb())\n",
    "    await state.clear()\n",
    "\n",
    "@router.message()\n",
    "async def echo(message: types.Message):\n",
    "    if message.text and not message.text.startswith(\"/\"):\n",
    "        await message.answer(f\"Ехо: {message.text}\")\n",
    "    else:\n",
    "        await message.answer(\"Невідома команда. Спробуй /help\")\n",
    "\n",
    "@router.callback_query(lambda c: c.data == \"search_by_description\")\n",
    "async def cb_search_description(callback: types.CallbackQuery, state: FSMContext):\n",
    "    await callback.message.answer(\"Введи опис бажаного аромату:\")\n",
    "    await state.set_state(Form.waiting_for_description)  # бот чекає опис\n",
    "    await callback.answer()\n",
    "\n",
    "@router.callback_query(lambda c: c.data == \"search_by_name\")\n",
    "async def cb_search_name(callback: types.CallbackQuery):\n",
    "    await callback.message.answer(\"Введи назву парфуму:\")\n",
    "    await callback.answer()\n",
    "\n",
    "@router.callback_query(lambda c: c.data == \"search_by_name_with_notes\")\n",
    "async def cb_search_name_with_notes(callback: types.CallbackQuery):\n",
    "    await callback.message.answer(\n",
    "        \"Введи назву парфуму, а потім додаткові нотки, які хочеш додати чи виключити:\"\n",
    "    )\n",
    "    await callback.answer()\n",
    "\n",
    "async def main():\n",
    "    bot = Bot(token=TOKEN)\n",
    "    dp = Dispatcher(storage=MemoryStorage())\n",
    "    dp.include_router(router)\n",
    "    print(\"✅ Бот запущений і працює!\")\n",
    "    await dp.start_polling(bot)\n",
    "\n",
    "if __name__ == \"__main__\":\n",
    "    await main()"
   ]
  }
 ],
 "metadata": {
  "kernelspec": {
   "display_name": "Python 3",
   "language": "python",
   "name": "python3"
  },
  "language_info": {
   "codemirror_mode": {
    "name": "ipython",
    "version": 3
   },
   "file_extension": ".py",
   "mimetype": "text/x-python",
   "name": "python",
   "nbconvert_exporter": "python",
   "pygments_lexer": "ipython3",
   "version": "3.11.5"
  }
 },
 "nbformat": 4,
 "nbformat_minor": 5
}
